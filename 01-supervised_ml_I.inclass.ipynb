{
 "cells": [
  {
   "cell_type": "markdown",
   "metadata": {
    "slideshow": {
     "slide_type": "slide"
    }
   },
   "source": [
    "# Supervised Machine Learning with Python I\n",
    "\n",
    "\n",
    "<img src=\"https://www.python.org/static/img/python-logo.png\" alt=\"yogen\" style=\"width: 200px; float: right;\"/>\n",
    "<br>\n",
    "<br>\n",
    "<br>\n",
    "<img src=\"../assets/yogen-logo.png\" alt=\"yogen\" style=\"width: 200px; float: right;\"/>"
   ]
  },
  {
   "cell_type": "markdown",
   "metadata": {
    "slideshow": {
     "slide_type": "slide"
    }
   },
   "source": [
    "# Objectives\n",
    "\n",
    "* Learn the basic principles of Machine Learning\n",
    "\n",
    "* Get to know the `scikit-learn` library and how to use it for Machine Learning.\n",
    "\n",
    "* Understand the close relationship between ML and optimization\n",
    "\n",
    "* Learn how to do linear regression with `scikit-learn`\n",
    "\n",
    "* Learn how to evaluate the results of training a regression algorithm\n"
   ]
  },
  {
   "cell_type": "markdown",
   "metadata": {
    "slideshow": {
     "slide_type": "slide"
    }
   },
   "source": [
    "# Machine Learning\n"
   ]
  },
  {
   "cell_type": "markdown",
   "metadata": {
    "slideshow": {
     "slide_type": "slide"
    }
   },
   "source": [
    "# `scikit-learn`"
   ]
  },
  {
   "cell_type": "markdown",
   "metadata": {
    "slideshow": {
     "slide_type": "fragment"
    }
   },
   "source": [
    "![scikit-learn cheat sheet](http://amueller.github.io/sklearn_tutorial/cheat_sheet.png)"
   ]
  },
  {
   "cell_type": "code",
   "execution_count": null,
   "metadata": {},
   "outputs": [],
   "source": []
  },
  {
   "cell_type": "markdown",
   "metadata": {
    "slideshow": {
     "slide_type": "slide"
    }
   },
   "source": [
    "## Linear Regression as a model for Machine Learning\n",
    "\n",
    "Linear regression finds an $h_\\theta$ of the form:\n",
    "\n",
    "$$ h_\\theta(X) = \\theta \\cdot X = \\theta_0 + \\theta_1 \\cdot X_1 + ... + \\beta_n \\cdot X_n$$\n",
    "\n",
    "\n",
    "Notice that X is **fixed**: we have one set of data. Finding $h_\\theta(X)$ means finding the values of $\\theta$ that make $h_\\theta(X)$ most similar to y.\n",
    "\n",
    "\n"
   ]
  },
  {
   "cell_type": "markdown",
   "metadata": {},
   "source": [
    "### Cost (loss) function\n",
    "\n",
    "Difference between  $h_\\theta(X)$  and y\n",
    "\n",
    "$$L(\\theta) = h_\\theta(X) - y$$\n",
    "\n",
    "We need to minimize it: we need its derivative _with respect to $\\theta_i$_"
   ]
  },
  {
   "cell_type": "markdown",
   "metadata": {},
   "source": [
    "## ML is optimization of a loss function.\n",
    "\n",
    "In the case of Linear Regression, we are lucky because we can get an analytic expression of the derivative. That means we can \"teleport\" to its minimum.\n",
    "\n",
    "In many other algorithms we can't, but we can calculate the derivative numerically at any point we want. How can we use that to find the minima?"
   ]
  },
  {
   "cell_type": "code",
   "execution_count": null,
   "metadata": {},
   "outputs": [],
   "source": []
  },
  {
   "cell_type": "markdown",
   "metadata": {},
   "source": [
    "### Gradient descent\n",
    "\n",
    "![Gradient Descent](http://cdn-images-1.medium.com/max/800/1*NRCWfdXa7b-ak2nBtmwRvw.png)\n",
    "\n",
    "from [primo.ai](http://primo.ai/)"
   ]
  },
  {
   "cell_type": "markdown",
   "metadata": {},
   "source": [
    "# Machine Learning with Python: `scikit-learn`"
   ]
  },
  {
   "cell_type": "markdown",
   "metadata": {
    "slideshow": {
     "slide_type": "slide"
    }
   },
   "source": [
    "## Generate dummy data"
   ]
  },
  {
   "cell_type": "markdown",
   "metadata": {
    "slideshow": {
     "slide_type": "fragment"
    }
   },
   "source": [
    "We are going to generate fake data before we dive into real data"
   ]
  },
  {
   "cell_type": "code",
   "execution_count": 1,
   "metadata": {},
   "outputs": [],
   "source": [
    "import pandas as pd\n",
    "import numpy as np\n",
    "import matplotlib.pyplot as plt\n",
    "from sklearn import datasets"
   ]
  },
  {
   "cell_type": "code",
   "execution_count": 17,
   "metadata": {},
   "outputs": [
    {
     "data": {
      "text/plain": [
       "(300, 1)"
      ]
     },
     "execution_count": 17,
     "metadata": {},
     "output_type": "execute_result"
    }
   ],
   "source": [
    "n_samples = 300\n",
    "n_features = 1\n",
    "\n",
    "X, y = datasets.make_regression(n_samples, n_features, noise=20)\n",
    "\n",
    "X.shape"
   ]
  },
  {
   "cell_type": "code",
   "execution_count": 18,
   "metadata": {},
   "outputs": [
    {
     "data": {
      "text/plain": [
       "<matplotlib.collections.PathCollection at 0x7f9d3399e700>"
      ]
     },
     "execution_count": 18,
     "metadata": {},
     "output_type": "execute_result"
    },
    {
     "data": {
      "image/png": "[encoded data removed]",
      "text/plain": [
       "<Figure size 432x288 with 1 Axes>"
      ]
     },
     "metadata": {
      "needs_background": "light"
     },
     "output_type": "display_data"
    }
   ],
   "source": [
    "plt.scatter(X, y)"
   ]
  },
  {
   "cell_type": "code",
   "execution_count": 20,
   "metadata": {},
   "outputs": [],
   "source": [
    "from sklearn.linear_model import LinearRegression\n",
    "\n",
    "lr = LinearRegression()"
   ]
  },
  {
   "cell_type": "code",
   "execution_count": 22,
   "metadata": {},
   "outputs": [
    {
     "data": {
      "text/plain": [
       "LinearRegression()"
      ]
     },
     "execution_count": 22,
     "metadata": {},
     "output_type": "execute_result"
    }
   ],
   "source": [
    "lr.fit(X, y)"
   ]
  },
  {
   "cell_type": "code",
   "execution_count": 23,
   "metadata": {
    "collapsed": true
   },
   "outputs": [
    {
     "data": {
      "text/plain": [
       "array([ 1.49932048e+01,  2.74054843e+01, -4.04531093e+01, -1.72980200e+01,\n",
       "       -3.93692376e+01, -2.90130488e+01,  2.91492316e+00,  4.23065546e+01,\n",
       "       -3.61655904e+01,  3.28860157e+01,  4.10474696e+01,  4.04930760e+01,\n",
       "       -1.02024951e+01,  5.32597126e+01, -6.99690431e+00,  1.10909126e-01,\n",
       "       -4.52874435e+00, -2.43888304e+00, -1.34587730e+00, -1.24188212e+01,\n",
       "       -9.23610666e+01,  3.53179300e+01,  1.90431170e+01,  5.55908174e+01,\n",
       "        4.08023705e+00,  1.89066702e+01, -6.81325814e+01,  8.02571446e-01,\n",
       "       -3.29755507e+01, -3.92076064e+01,  7.83874467e+00, -3.37484718e+01,\n",
       "        3.30901266e+00,  1.90703167e+01,  1.98682400e+01, -2.83578028e+01,\n",
       "        6.44320719e+01,  5.94709102e+01, -6.38487544e+01,  3.50739755e+01,\n",
       "        2.27270152e+01,  3.42265647e+01, -4.04847900e+01, -5.53113692e+00,\n",
       "        4.13995853e+01, -1.53727885e+01, -1.46837995e+00, -8.57304398e+01,\n",
       "        1.47341571e+01,  1.59395806e+01, -2.60396484e+01, -6.53475924e+00,\n",
       "       -1.76980342e+01,  4.45054040e+01, -2.52840673e+01, -8.55208079e+00,\n",
       "       -1.88301324e+00,  1.36459238e+01, -1.92615896e+01,  2.97299130e+01,\n",
       "        1.69148236e+01,  1.52421483e+01, -4.70900897e+01, -2.56884370e+00,\n",
       "       -3.80685046e+01,  5.25559543e+01, -2.77937163e+01,  9.28789460e+00,\n",
       "       -9.08740082e+00, -1.44690443e+01,  1.84110022e+00, -6.08685160e+00,\n",
       "        3.52129327e+01,  2.00917718e+01, -4.38191303e+01,  2.22527742e+01,\n",
       "       -3.68508305e+01, -2.99114508e+01, -2.46377160e+01, -2.46981508e+01,\n",
       "       -4.70767822e+01, -4.89983643e+01,  2.26586621e+01,  2.53275440e+01,\n",
       "       -2.98901404e+01, -8.98659554e+00, -1.88250228e+01,  2.30283088e+01,\n",
       "       -1.98315813e+01, -9.83048008e+00,  2.18500201e+01,  3.09639686e+00,\n",
       "       -1.81628648e+01, -5.81924308e+01, -4.76324636e+01, -3.08666527e+00,\n",
       "        1.84911672e+01,  5.55594672e+01, -4.82150983e+01, -4.94670788e+01,\n",
       "        4.58292482e+01,  4.68457061e+01, -4.51930011e+01,  4.97404044e+01,\n",
       "        2.00239389e+01,  5.62994226e+00,  2.57627507e+01,  9.14477622e+01,\n",
       "       -7.42131140e+00,  2.12631229e+00,  1.64782375e+01,  3.06223447e+00,\n",
       "       -4.33092042e+00, -3.44567327e+01,  4.57852185e+01,  1.56498909e+01,\n",
       "        1.88456822e+00,  8.65651081e+01,  2.89152257e+01,  1.64064445e+01,\n",
       "       -1.94183363e+01, -3.63239050e+01, -2.07686067e+01,  6.64282288e+01,\n",
       "        2.16830768e+01, -3.57425556e+01, -1.58264635e+01,  1.80428359e+01,\n",
       "       -1.99947763e+01, -1.66882077e+01, -5.40897693e+00,  2.06485295e+01,\n",
       "       -1.83991233e+00,  3.94751901e+01, -1.27363767e+00, -2.74084948e+01,\n",
       "       -1.32981726e+01,  3.13837170e+01,  4.19754390e+01, -6.55946455e-01,\n",
       "        5.11453100e+00,  6.81038119e+01,  5.59153653e+00, -1.64798393e+01,\n",
       "       -3.90066225e+01, -7.92492609e+01,  1.49276811e+01,  1.65631097e+01,\n",
       "       -2.79728787e+01,  1.71502057e+01,  6.54493043e+01,  3.83192318e+01,\n",
       "       -7.66961083e+01,  7.19453142e+01, -7.10322853e+00, -4.23199491e+01,\n",
       "       -8.00365684e+00, -5.53195494e+01,  2.54490291e+01, -2.06587674e+01,\n",
       "        2.37385173e+01, -1.12146539e+01, -4.45338933e+01, -3.02455821e+01,\n",
       "        3.56418582e+01,  5.23519660e-01,  8.68313286e+00,  3.53336992e+01,\n",
       "       -1.22918841e+01, -3.25549143e+01, -5.04838923e+00, -1.51667434e+01,\n",
       "        1.20511038e+01,  4.14922088e+01, -4.58344722e+01, -7.43691337e+00,\n",
       "        7.82470444e+00, -2.53157624e+01,  1.75887690e+01, -5.30224940e+01,\n",
       "        5.09816039e+01, -2.12617410e+01, -2.76098564e+00, -5.31341460e+01,\n",
       "       -1.13616759e+02,  2.02436413e+01, -1.56365089e+01,  7.29945665e+00,\n",
       "        6.99446727e+00,  1.29424919e+02,  8.96716500e+01, -1.46817998e+01,\n",
       "        9.89700545e+00, -6.23854675e+00, -2.51430477e+00, -1.28870861e+01,\n",
       "       -2.79735312e+01, -6.70446761e+00,  1.43634851e+01,  7.05190235e+00,\n",
       "       -2.78355828e+01, -3.42899607e+01,  5.25695094e+01,  2.84584137e+01,\n",
       "       -1.38312698e+01, -4.38482525e+01, -2.84327287e+01,  2.89335911e+01,\n",
       "       -1.41627824e+01, -1.09009072e+01,  1.13915333e+00, -1.86437534e+01,\n",
       "       -3.85337720e+00,  8.89919991e+01, -1.92602697e+00,  9.74525561e+00,\n",
       "        1.08685648e+01,  3.16445941e+00, -1.66335100e+01,  1.29588177e+01,\n",
       "       -8.67228582e+01,  2.26025346e+01, -4.63390281e+01, -2.90180600e+01,\n",
       "       -2.72922323e+01,  2.23562639e+00,  5.36075753e+01,  1.66619751e+01,\n",
       "       -1.27911370e+01, -5.10995505e+01,  1.06232352e+01,  4.69050626e+00,\n",
       "       -5.74249736e+01,  5.51537328e+00,  1.79543168e+01,  1.15733140e+01,\n",
       "       -7.49901748e+00, -3.24825556e+01, -3.99409586e+01, -5.26124104e+01,\n",
       "        2.67330603e+01,  1.54648933e+01, -3.36839173e+01,  1.81736325e+01,\n",
       "        1.13803280e+01, -4.30837227e+01,  5.14221095e+01,  2.31376845e+01,\n",
       "       -2.12298537e+01, -2.35650193e+01,  6.53304746e-02,  4.62645257e+01,\n",
       "       -6.33625788e+01, -8.85371713e+00, -4.96421098e+00,  2.33004963e+01,\n",
       "        2.77269354e+01, -9.41679155e+00, -3.29116654e+01,  9.82009911e+00,\n",
       "        2.64546752e+01,  5.84238611e+00,  2.84877018e+01,  1.04026067e+01,\n",
       "       -2.79038512e+01,  4.97102869e-01,  1.64591994e+01, -7.38807541e+01,\n",
       "       -5.48623291e+00,  2.78702562e+01, -4.17604486e+01,  2.96424967e+00,\n",
       "        2.28257892e+01,  2.34008131e+01,  4.48052177e+00,  1.52000751e+01,\n",
       "       -2.57274873e+01,  3.92622090e+01, -3.64950843e+00,  2.51616637e+00,\n",
       "        1.32085412e+01,  7.55648346e+00,  5.08275793e+01, -7.61884482e+00,\n",
       "       -1.25352344e+01, -3.20973379e+01,  1.78181095e-01, -5.92473121e+01,\n",
       "        6.08327250e+01, -5.76349084e+01,  2.81526109e+01,  1.70509920e+00,\n",
       "        3.61901628e+01, -1.31660605e+01, -2.17787469e+01,  6.02804997e+01,\n",
       "       -2.80610659e+01,  4.79757678e+01, -3.14322410e+01, -3.23970554e+01])"
      ]
     },
     "execution_count": 23,
     "metadata": {},
     "output_type": "execute_result"
    }
   ],
   "source": [
    "lr.predict(X)"
   ]
  },
  {
   "cell_type": "code",
   "execution_count": 25,
   "metadata": {
    "collapsed": true
   },
   "outputs": [
    {
     "data": {
      "text/plain": [
       "array([ 4.47250518e+01,  4.73334577e+01, -4.89527535e+01, -1.63170076e+01,\n",
       "       -2.98813654e+01, -2.60339037e+01, -3.10274666e+00,  2.94180232e+01,\n",
       "       -4.34730178e+01,  2.30098633e+01,  8.11820460e+01,  5.11201141e+01,\n",
       "        3.13872729e+00,  5.23968928e+01, -4.06149592e+01,  1.14889977e+01,\n",
       "       -4.34401845e+01, -1.50908707e+01, -2.46250000e+00, -7.51783932e+00,\n",
       "       -9.66059445e+01,  4.44614598e+01,  8.13684559e+00,  6.72212780e+01,\n",
       "        1.39678212e+01,  1.48715581e+01, -6.21297877e+01,  1.00740965e+01,\n",
       "        9.88776426e+00, -3.68602021e+01,  1.17195213e+01, -2.77570825e+01,\n",
       "        7.74760046e+00, -3.98705394e-02, -5.25776077e+00, -2.84603548e+01,\n",
       "        5.14602763e+01,  7.67651191e+01, -7.28748303e+01,  2.26058041e+01,\n",
       "        2.74010160e+01,  3.46139329e+01, -3.34348931e+01,  8.39409268e+00,\n",
       "        6.78379232e+01, -1.17656743e+01,  8.68898744e+00, -9.47879425e+01,\n",
       "        1.14023240e+01,  3.09140967e+01, -2.79857680e+01, -9.88691774e+00,\n",
       "       -3.35684088e+01,  4.60305090e+01, -3.55104846e+01, -3.01240901e+01,\n",
       "        1.17173767e+01,  1.68836344e+01, -2.59007630e+01,  1.83308021e+01,\n",
       "        3.44460069e+01,  1.76397048e+01, -6.32008818e+01, -1.49382184e+01,\n",
       "       -3.75434930e+01,  4.20661756e+01, -3.22799155e+01,  2.40493374e+00,\n",
       "       -1.64627278e+00, -2.12843171e+01,  1.10010889e+01,  1.04341893e+01,\n",
       "        5.02173096e+01,  1.52651107e+01, -6.03633396e+01,  3.21109818e+01,\n",
       "       -4.49271271e+01, -2.84489983e+01, -3.02185604e+01, -3.28278405e+01,\n",
       "       -5.58835292e+01, -4.27871876e+01,  3.26830360e+01,  3.97385794e+01,\n",
       "       -3.18467447e+01,  4.09922882e+00, -2.44859187e+01,  2.46556593e+01,\n",
       "       -1.86712019e+01,  8.84729378e+00,  1.75794241e+01,  2.01019823e+00,\n",
       "       -4.45200784e+01, -3.52607891e+01, -6.21929315e+01, -2.03898198e+01,\n",
       "        2.65944471e+01,  4.91395868e+01, -5.50481070e+01, -4.29480299e+01,\n",
       "        3.32626179e+01,  3.00114995e+01, -3.63852611e+01,  6.15262826e+01,\n",
       "        1.47588074e+01, -1.43369759e+01,  4.18184323e+01,  7.05140573e+01,\n",
       "       -2.61681822e+01,  1.60988995e+01,  2.64949607e+01, -5.89946414e+00,\n",
       "       -2.89837265e+01, -4.50765240e+01,  5.10563577e+01,  1.01900762e+01,\n",
       "       -1.37911596e+00,  9.51631854e+01,  1.60434797e+01,  1.90077877e+01,\n",
       "       -3.12691249e+01, -4.62837315e+01, -2.34050558e+01,  6.10383010e+01,\n",
       "        3.84698737e+01, -4.96515737e+01, -2.62593044e+01,  2.82779240e+01,\n",
       "       -1.39644504e+01, -2.09791598e-01, -8.51250471e+00,  3.61942040e+01,\n",
       "        2.00237784e+01,  1.47950069e+01,  8.30725948e+00, -2.66898017e+01,\n",
       "       -1.22863400e+01,  2.26280097e+01,  4.35270133e+01, -1.36784987e+01,\n",
       "        5.05856399e+00,  6.37038478e+01, -7.63527930e+00, -1.46892911e+01,\n",
       "       -1.15500029e+01, -9.61323153e+01,  2.00262956e+01,  2.75734702e+01,\n",
       "       -1.56503099e+01,  3.56853516e+01,  5.06200327e+01,  2.66666741e+01,\n",
       "       -6.88795833e+01,  6.54191365e+01, -2.49220717e+01, -5.78651278e+01,\n",
       "       -3.15862328e+01, -2.97206978e+01,  5.45647453e+01, -2.49882504e+01,\n",
       "        1.69542912e+01, -2.68909729e+01, -3.02988078e+01, -3.78523300e+01,\n",
       "        4.67386528e+01, -2.53398307e+01,  1.16492767e+01,  4.79584739e+01,\n",
       "       -2.75288602e+00, -3.01997174e+01, -2.69284717e+01,  7.71808891e-02,\n",
       "        2.37512949e+01,  6.65128758e+01, -5.71767869e+01, -1.56099557e+01,\n",
       "        7.21890646e+00, -4.71298653e+01,  1.69497210e+01, -4.49509325e+01,\n",
       "        7.09342558e+01, -3.68442170e+01, -2.02414134e+01, -2.58823687e+01,\n",
       "       -8.85225886e+01,  1.84182261e+01, -1.89340222e+01, -1.62294512e+01,\n",
       "       -2.17238805e+01,  1.05338980e+02,  5.19445824e+01, -3.00932822e+01,\n",
       "        1.83731349e+01,  1.63509307e+01, -2.20382369e+01, -2.39423951e+01,\n",
       "       -1.06049850e+01, -2.08262691e+01,  1.06706310e+01, -2.05673659e+01,\n",
       "       -3.68798612e+01, -1.93382796e+01,  2.25799447e+01,  2.73353927e+01,\n",
       "       -2.62751155e+00, -5.49821784e+01, -3.00193938e+01,  2.15530460e+01,\n",
       "        3.58238912e+00, -2.39076882e+01, -5.47402339e+00, -1.22319731e+01,\n",
       "        5.93480758e+00,  8.48734044e+01,  6.95975718e+00, -4.43896858e+00,\n",
       "        1.17064187e+01,  1.31554952e+01, -1.36233130e+01,  4.61582542e+01,\n",
       "       -9.25219432e+01,  2.51986927e+01, -5.32416190e+01, -4.09305488e+01,\n",
       "       -3.86632044e+01,  1.78673290e+01,  5.11230812e+01,  2.94181126e+01,\n",
       "       -2.70364297e+01, -3.70925141e+01, -1.25419643e+01,  4.92556681e+00,\n",
       "       -5.97069406e+01,  1.03663683e+01,  2.08393180e+01,  1.96555555e+01,\n",
       "       -9.55122920e+00, -3.79927039e+01, -5.26672444e+01, -3.95053161e+01,\n",
       "        4.70248325e+01,  1.23919033e+01, -8.37867505e+00,  1.66095218e+01,\n",
       "        2.13624932e+01, -4.76856672e+01,  7.74700458e+01,  1.90694992e+01,\n",
       "       -3.88000513e+01, -2.52832097e+01, -1.13908829e+00,  2.84971994e+01,\n",
       "       -7.66447888e+01, -1.94903799e+01, -3.92120615e+01,  3.00363047e+01,\n",
       "        3.65107306e+01, -2.60460733e+01, -4.34547188e+00, -2.86816148e+00,\n",
       "        4.92940281e+01,  1.44025459e+00,  2.64620907e+01,  1.04208750e+01,\n",
       "       -1.03165216e+01, -2.78021396e+01,  4.05805495e+01, -5.83746395e+01,\n",
       "       -5.17121077e+00,  2.28588766e+01, -4.37574390e+01, -1.04580078e+01,\n",
       "        2.85842296e+01,  3.37521585e+01,  2.17481680e+01,  2.30894476e+01,\n",
       "       -2.50376755e+01,  1.58743349e+01, -1.41119395e+01,  1.01163915e+01,\n",
       "        3.75541293e+01,  2.60935009e+00,  5.77532152e+01,  1.21268927e+01,\n",
       "       -1.31490516e+01, -3.21767137e+01,  1.54237601e-01, -4.71648319e+01,\n",
       "        7.07817680e+01, -6.21545022e+01,  3.06107256e+01,  1.44439496e+00,\n",
       "        3.48104845e+01, -1.04543635e+01, -3.29272671e+01,  7.64377836e+01,\n",
       "       -3.16233124e+01,  5.11080583e+01, -2.53571036e+01, -2.27515869e+01])"
      ]
     },
     "execution_count": 25,
     "metadata": {},
     "output_type": "execute_result"
    }
   ],
   "source": [
    "from sklearn.ensemble import RandomForestRegressor\n",
    "\n",
    "rf = RandomForestRegressor()\n",
    "rf.fit(X, y)\n",
    "rf.predict(X)"
   ]
  },
  {
   "cell_type": "code",
   "execution_count": null,
   "metadata": {},
   "outputs": [],
   "source": []
  },
  {
   "cell_type": "markdown",
   "metadata": {
    "slideshow": {
     "slide_type": "fragment"
    }
   },
   "source": [
    "This time, rather than code our own gradient descent optimizer, we will use `scikit-learn`"
   ]
  },
  {
   "cell_type": "markdown",
   "metadata": {
    "slideshow": {
     "slide_type": "fragment"
    }
   },
   "source": [
    "## The `Estimator` interface\n",
    "\n",
    "In scikit-learn, preprocessing, supervised and unsupervised learning algorithms share a uniform interface.\n",
    "\n",
    "Al estimators have a `.fit()` method, which takes:\n",
    "\n",
    "- X, a numpy array or scipy sparse matrix\n",
    "\n",
    "- y, in the case of supervised learning. It is a one-dimensional numpy array containing target values."
   ]
  },
  {
   "cell_type": "markdown",
   "metadata": {
    "slideshow": {
     "slide_type": "slide"
    }
   },
   "source": [
    "Once fitted, `Estimators` can either:\n",
    "\n",
    "- `.predict()` a new set of y values from an `X_test` array: classification, regression, clustering\n",
    "\n",
    "- `.transform()` an input `X_test` array: preprocessing, dimensionality reduction, feature extraction..."
   ]
  },
  {
   "cell_type": "markdown",
   "metadata": {
    "slideshow": {
     "slide_type": "slide"
    }
   },
   "source": [
    "## Fitting a LinearRegression with `sklearn`"
   ]
  },
  {
   "cell_type": "code",
   "execution_count": 28,
   "metadata": {
    "collapsed": true
   },
   "outputs": [
    {
     "ename": "NotFittedError",
     "evalue": "This LinearRegression instance is not fitted yet. Call 'fit' with appropriate arguments before using this estimator.",
     "output_type": "error",
     "traceback": [
      "\u001b[0;31m---------------------------------------------------------------------------\u001b[0m",
      "\u001b[0;31mNotFittedError\u001b[0m                            Traceback (most recent call last)",
      "\u001b[0;32m/var/folders/zp/8f7jsfk57wv4xty1g8w6r_9c0000gn/T/ipykernel_66524/1151967822.py\u001b[0m in \u001b[0;36m<module>\u001b[0;34m\u001b[0m\n\u001b[1;32m      1\u001b[0m \u001b[0mlr\u001b[0m \u001b[0;34m=\u001b[0m \u001b[0mLinearRegression\u001b[0m\u001b[0;34m(\u001b[0m\u001b[0;34m)\u001b[0m\u001b[0;34m\u001b[0m\u001b[0;34m\u001b[0m\u001b[0m\n\u001b[1;32m      2\u001b[0m \u001b[0;34m\u001b[0m\u001b[0m\n\u001b[0;32m----> 3\u001b[0;31m \u001b[0mlr\u001b[0m\u001b[0;34m.\u001b[0m\u001b[0mpredict\u001b[0m\u001b[0;34m(\u001b[0m\u001b[0mX\u001b[0m\u001b[0;34m)\u001b[0m\u001b[0;34m\u001b[0m\u001b[0;34m\u001b[0m\u001b[0m\n\u001b[0m",
      "\u001b[0;32m~/opt/anaconda3/envs/master2022/lib/python3.8/site-packages/sklearn/linear_model/_base.py\u001b[0m in \u001b[0;36mpredict\u001b[0;34m(self, X)\u001b[0m\n\u001b[1;32m    360\u001b[0m             \u001b[0mReturns\u001b[0m \u001b[0mpredicted\u001b[0m \u001b[0mvalues\u001b[0m\u001b[0;34m.\u001b[0m\u001b[0;34m\u001b[0m\u001b[0;34m\u001b[0m\u001b[0m\n\u001b[1;32m    361\u001b[0m         \"\"\"\n\u001b[0;32m--> 362\u001b[0;31m         \u001b[0;32mreturn\u001b[0m \u001b[0mself\u001b[0m\u001b[0;34m.\u001b[0m\u001b[0m_decision_function\u001b[0m\u001b[0;34m(\u001b[0m\u001b[0mX\u001b[0m\u001b[0;34m)\u001b[0m\u001b[0;34m\u001b[0m\u001b[0;34m\u001b[0m\u001b[0m\n\u001b[0m\u001b[1;32m    363\u001b[0m \u001b[0;34m\u001b[0m\u001b[0m\n\u001b[1;32m    364\u001b[0m     \u001b[0m_preprocess_data\u001b[0m \u001b[0;34m=\u001b[0m \u001b[0mstaticmethod\u001b[0m\u001b[0;34m(\u001b[0m\u001b[0m_preprocess_data\u001b[0m\u001b[0;34m)\u001b[0m\u001b[0;34m\u001b[0m\u001b[0;34m\u001b[0m\u001b[0m\n",
      "\u001b[0;32m~/opt/anaconda3/envs/master2022/lib/python3.8/site-packages/sklearn/linear_model/_base.py\u001b[0m in \u001b[0;36m_decision_function\u001b[0;34m(self, X)\u001b[0m\n\u001b[1;32m    341\u001b[0m \u001b[0;34m\u001b[0m\u001b[0m\n\u001b[1;32m    342\u001b[0m     \u001b[0;32mdef\u001b[0m \u001b[0m_decision_function\u001b[0m\u001b[0;34m(\u001b[0m\u001b[0mself\u001b[0m\u001b[0;34m,\u001b[0m \u001b[0mX\u001b[0m\u001b[0;34m)\u001b[0m\u001b[0;34m:\u001b[0m\u001b[0;34m\u001b[0m\u001b[0;34m\u001b[0m\u001b[0m\n\u001b[0;32m--> 343\u001b[0;31m         \u001b[0mcheck_is_fitted\u001b[0m\u001b[0;34m(\u001b[0m\u001b[0mself\u001b[0m\u001b[0;34m)\u001b[0m\u001b[0;34m\u001b[0m\u001b[0;34m\u001b[0m\u001b[0m\n\u001b[0m\u001b[1;32m    344\u001b[0m \u001b[0;34m\u001b[0m\u001b[0m\n\u001b[1;32m    345\u001b[0m         \u001b[0mX\u001b[0m \u001b[0;34m=\u001b[0m \u001b[0mself\u001b[0m\u001b[0;34m.\u001b[0m\u001b[0m_validate_data\u001b[0m\u001b[0;34m(\u001b[0m\u001b[0mX\u001b[0m\u001b[0;34m,\u001b[0m \u001b[0maccept_sparse\u001b[0m\u001b[0;34m=\u001b[0m\u001b[0;34m[\u001b[0m\u001b[0;34m\"csr\"\u001b[0m\u001b[0;34m,\u001b[0m \u001b[0;34m\"csc\"\u001b[0m\u001b[0;34m,\u001b[0m \u001b[0;34m\"coo\"\u001b[0m\u001b[0;34m]\u001b[0m\u001b[0;34m,\u001b[0m \u001b[0mreset\u001b[0m\u001b[0;34m=\u001b[0m\u001b[0;32mFalse\u001b[0m\u001b[0;34m)\u001b[0m\u001b[0;34m\u001b[0m\u001b[0;34m\u001b[0m\u001b[0m\n",
      "\u001b[0;32m~/opt/anaconda3/envs/master2022/lib/python3.8/site-packages/sklearn/utils/validation.py\u001b[0m in \u001b[0;36mcheck_is_fitted\u001b[0;34m(estimator, attributes, msg, all_or_any)\u001b[0m\n\u001b[1;32m   1220\u001b[0m \u001b[0;34m\u001b[0m\u001b[0m\n\u001b[1;32m   1221\u001b[0m     \u001b[0;32mif\u001b[0m \u001b[0;32mnot\u001b[0m \u001b[0mfitted\u001b[0m\u001b[0;34m:\u001b[0m\u001b[0;34m\u001b[0m\u001b[0;34m\u001b[0m\u001b[0m\n\u001b[0;32m-> 1222\u001b[0;31m         \u001b[0;32mraise\u001b[0m \u001b[0mNotFittedError\u001b[0m\u001b[0;34m(\u001b[0m\u001b[0mmsg\u001b[0m \u001b[0;34m%\u001b[0m \u001b[0;34m{\u001b[0m\u001b[0;34m\"name\"\u001b[0m\u001b[0;34m:\u001b[0m \u001b[0mtype\u001b[0m\u001b[0;34m(\u001b[0m\u001b[0mestimator\u001b[0m\u001b[0;34m)\u001b[0m\u001b[0;34m.\u001b[0m\u001b[0m__name__\u001b[0m\u001b[0;34m}\u001b[0m\u001b[0;34m)\u001b[0m\u001b[0;34m\u001b[0m\u001b[0;34m\u001b[0m\u001b[0m\n\u001b[0m\u001b[1;32m   1223\u001b[0m \u001b[0;34m\u001b[0m\u001b[0m\n\u001b[1;32m   1224\u001b[0m \u001b[0;34m\u001b[0m\u001b[0m\n",
      "\u001b[0;31mNotFittedError\u001b[0m: This LinearRegression instance is not fitted yet. Call 'fit' with appropriate arguments before using this estimator."
     ]
    }
   ],
   "source": [
    "lr = LinearRegression()\n",
    "\n",
    "lr.predict(X)"
   ]
  },
  {
   "cell_type": "code",
   "execution_count": 29,
   "metadata": {},
   "outputs": [
    {
     "ename": "AttributeError",
     "evalue": "'LinearRegression' object has no attribute 'coef_'",
     "output_type": "error",
     "traceback": [
      "\u001b[0;31m---------------------------------------------------------------------------\u001b[0m",
      "\u001b[0;31mAttributeError\u001b[0m                            Traceback (most recent call last)",
      "\u001b[0;32m/var/folders/zp/8f7jsfk57wv4xty1g8w6r_9c0000gn/T/ipykernel_66524/4194847657.py\u001b[0m in \u001b[0;36m<module>\u001b[0;34m\u001b[0m\n\u001b[0;32m----> 1\u001b[0;31m \u001b[0mlr\u001b[0m\u001b[0;34m.\u001b[0m\u001b[0mcoef_\u001b[0m\u001b[0;34m,\u001b[0m \u001b[0mlr\u001b[0m\u001b[0;34m.\u001b[0m\u001b[0mintercept_\u001b[0m\u001b[0;34m\u001b[0m\u001b[0;34m\u001b[0m\u001b[0m\n\u001b[0m",
      "\u001b[0;31mAttributeError\u001b[0m: 'LinearRegression' object has no attribute 'coef_'"
     ]
    }
   ],
   "source": [
    "lr.coef_, lr.intercept_"
   ]
  },
  {
   "cell_type": "code",
   "execution_count": 31,
   "metadata": {},
   "outputs": [
    {
     "data": {
      "text/plain": [
       "(array([36.02136086]), 0.04969937655626089)"
      ]
     },
     "execution_count": 31,
     "metadata": {},
     "output_type": "execute_result"
    }
   ],
   "source": [
    "lr.fit(X, y)\n",
    "lr.coef_, lr.intercept_"
   ]
  },
  {
   "cell_type": "code",
   "execution_count": 34,
   "metadata": {},
   "outputs": [
    {
     "data": {
      "text/plain": [
       "[<matplotlib.lines.Line2D at 0x7f9d01061220>]"
      ]
     },
     "execution_count": 34,
     "metadata": {},
     "output_type": "execute_result"
    },
    {
     "data": {
      "image/png": "[encoded data removed]",
      "text/plain": [
       "<Figure size 432x288 with 1 Axes>"
      ]
     },
     "metadata": {
      "needs_background": "light"
     },
     "output_type": "display_data"
    }
   ],
   "source": [
    "xs = np.linspace(0, 10)\n",
    "ys = np.sin(xs)\n",
    "\n",
    "plt.plot(xs, ys)"
   ]
  },
  {
   "cell_type": "markdown",
   "metadata": {},
   "source": [
    "#### Exercise\n",
    "\n",
    "Plot the observations (`plt.scatter`) and the line that our `LinearRegression` has learned."
   ]
  },
  {
   "cell_type": "code",
   "execution_count": 39,
   "metadata": {},
   "outputs": [
    {
     "data": {
      "text/plain": [
       "[<matplotlib.lines.Line2D at 0x7f9d341ae610>]"
      ]
     },
     "execution_count": 39,
     "metadata": {},
     "output_type": "execute_result"
    },
    {
     "data": {
      "image/png": "[encoded data removed]",
      "text/plain": [
       "<Figure size 432x288 with 1 Axes>"
      ]
     },
     "metadata": {
      "needs_background": "light"
     },
     "output_type": "display_data"
    }
   ],
   "source": [
    "plt.scatter(X, y)\n",
    "\n",
    "xs = np.linspace(min(X), max(X))\n",
    "y_hat = lr.coef_ * xs + lr.intercept_\n",
    "\n",
    "plt.plot(xs, y_hat, c='orange')"
   ]
  },
  {
   "cell_type": "code",
   "execution_count": 42,
   "metadata": {},
   "outputs": [
    {
     "data": {
      "text/plain": [
       "[<matplotlib.lines.Line2D at 0x7f9d21eb6280>]"
      ]
     },
     "execution_count": 42,
     "metadata": {},
     "output_type": "execute_result"
    },
    {
     "data": {
      "image/png": "[encoded data removed]",
      "text/plain": [
       "<Figure size 432x288 with 1 Axes>"
      ]
     },
     "metadata": {
      "needs_background": "light"
     },
     "output_type": "display_data"
    }
   ],
   "source": [
    "plt.scatter(X, y)\n",
    "\n",
    "xs = np.linspace(min(X), max(X))\n",
    "ys = lr.predict(xs)\n",
    "\n",
    "plt.plot(xs, ys, c='orange')"
   ]
  },
  {
   "cell_type": "code",
   "execution_count": 48,
   "metadata": {},
   "outputs": [
    {
     "data": {
      "text/plain": [
       "(383.2020494241877, 19.575547231793742)"
      ]
     },
     "execution_count": 48,
     "metadata": {},
     "output_type": "execute_result"
    }
   ],
   "source": [
    "# MSE\n",
    "\n",
    "y_hat = lr.predict(X)\n",
    "mse = np.mean((y - y_hat) ** 2)\n",
    "\n",
    "# RMSE \n",
    "rmse = np.sqrt(mse)\n",
    "\n",
    "mse, rmse"
   ]
  },
  {
   "cell_type": "code",
   "execution_count": 50,
   "metadata": {},
   "outputs": [
    {
     "data": {
      "text/plain": [
       "15.633880181906413"
      ]
     },
     "execution_count": 50,
     "metadata": {},
     "output_type": "execute_result"
    }
   ],
   "source": [
    "np.mean(np.abs((y - y_hat)))"
   ]
  },
  {
   "cell_type": "markdown",
   "metadata": {
    "slideshow": {
     "slide_type": "fragment"
    }
   },
   "source": [
    "Is this a good estimate of the generalization error?"
   ]
  },
  {
   "cell_type": "markdown",
   "metadata": {
    "slideshow": {
     "slide_type": "slide"
    }
   },
   "source": [
    "## Scoring and model validation"
   ]
  },
  {
   "cell_type": "markdown",
   "metadata": {
    "slideshow": {
     "slide_type": "fragment"
    }
   },
   "source": [
    "Our training set error will always be an optimistic estimate of our test set error."
   ]
  },
  {
   "cell_type": "markdown",
   "metadata": {
    "slideshow": {
     "slide_type": "slide"
    }
   },
   "source": [
    "We need to do a train, test split:"
   ]
  },
  {
   "cell_type": "code",
   "execution_count": 53,
   "metadata": {},
   "outputs": [
    {
     "data": {
      "text/plain": [
       "(225, 1)"
      ]
     },
     "execution_count": 53,
     "metadata": {},
     "output_type": "execute_result"
    }
   ],
   "source": [
    "from sklearn.model_selection import train_test_split\n",
    "\n",
    "X_train, X_test, y_train, y_test = train_test_split(X, y)\n",
    "\n",
    "X_train.shape"
   ]
  },
  {
   "cell_type": "code",
   "execution_count": 56,
   "metadata": {},
   "outputs": [
    {
     "data": {
      "text/plain": [
       "15.483248163714219"
      ]
     },
     "execution_count": 56,
     "metadata": {},
     "output_type": "execute_result"
    }
   ],
   "source": [
    "lr = LinearRegression()\n",
    "\n",
    "lr.fit(X_train, y_train)\n",
    "y_hat = lr.predict(X_test)\n",
    "\n",
    "np.mean(np.abs(y_test - y_hat))"
   ]
  },
  {
   "cell_type": "code",
   "execution_count": 145,
   "metadata": {},
   "outputs": [
    {
     "data": {
      "text/plain": [
       "21.1068709037142"
      ]
     },
     "execution_count": 145,
     "metadata": {},
     "output_type": "execute_result"
    }
   ],
   "source": [
    "X_train, X_test, y_train, y_test = train_test_split(X, y, train_size=.05)\n",
    "\n",
    "lr = LinearRegression()\n",
    "\n",
    "lr.fit(X_train, y_train)\n",
    "y_hat = lr.predict(X_test)\n",
    "\n",
    "np.mean(np.abs(y_test - y_hat))"
   ]
  },
  {
   "cell_type": "markdown",
   "metadata": {
    "heading_collapsed": true
   },
   "source": [
    "## Metrics for regression\n",
    "\n",
    "MSE: Mean Squared Error\n",
    "\n",
    "$$MSE = \\frac{1}{n} \\sum_{i=1}^{n} (y_i - h(x_i))^2$$\n",
    "\n",
    "MAE: Mean Absolute Error \n",
    "\n",
    "$$MAE = \\frac{1}{n} \\sum_{i=1}^{n} |y_i - h(x_i)|$$\n",
    "\n",
    "MAPE: Mean Absolute Percent Error\n",
    "\n",
    "$$MAE = \\frac{1}{n} \\sum_{i=1}^{n} \\frac{|y_i - h(x_i)|}{y_i}$$\n",
    "\n",
    "Explained Variance:\n",
    "\n",
    "\n",
    "$$explained\\_{}variance(y, \\hat{y}) = 1 - \\frac{Var\\{ y - \\hat{y}\\}}{Var\\{y\\}}$$\n",
    "\n",
    "\n",
    "\n",
    "We will learn more about scoring and model selection in a later module"
   ]
  },
  {
   "cell_type": "markdown",
   "metadata": {},
   "source": [
    "# Regression algorithms in sklearn\n",
    "\n",
    "We have already met Linear regression, which is a parametric algorithm. There are, however, _non-parametric_ algorithms that do not make assumption regarding the shape of the function to be approximated.\n",
    "\n",
    "Let's try more sophisticated algorithms on our toy data and on real data."
   ]
  },
  {
   "cell_type": "code",
   "execution_count": 170,
   "metadata": {},
   "outputs": [
    {
     "data": {
      "text/html": [
       "<div>\n",
       "<style scoped>\n",
       "    .dataframe tbody tr th:only-of-type {\n",
       "        vertical-align: middle;\n",
       "    }\n",
       "\n",
       "    .dataframe tbody tr th {\n",
       "        vertical-align: top;\n",
       "    }\n",
       "\n",
       "    .dataframe thead th {\n",
       "        text-align: right;\n",
       "    }\n",
       "</style>\n",
       "<table border=\"1\" class=\"dataframe\">\n",
       "  <thead>\n",
       "    <tr style=\"text-align: right;\">\n",
       "      <th></th>\n",
       "      <th>age</th>\n",
       "      <th>sex</th>\n",
       "      <th>bmi</th>\n",
       "      <th>bp</th>\n",
       "      <th>s1</th>\n",
       "      <th>s2</th>\n",
       "      <th>s3</th>\n",
       "      <th>s4</th>\n",
       "      <th>s5</th>\n",
       "      <th>s6</th>\n",
       "    </tr>\n",
       "  </thead>\n",
       "  <tbody>\n",
       "    <tr>\n",
       "      <th>0</th>\n",
       "      <td>0.038076</td>\n",
       "      <td>0.050680</td>\n",
       "      <td>0.061696</td>\n",
       "      <td>0.021872</td>\n",
       "      <td>-0.044223</td>\n",
       "      <td>-0.034821</td>\n",
       "      <td>-0.043401</td>\n",
       "      <td>-0.002592</td>\n",
       "      <td>0.019908</td>\n",
       "      <td>-0.017646</td>\n",
       "    </tr>\n",
       "    <tr>\n",
       "      <th>1</th>\n",
       "      <td>-0.001882</td>\n",
       "      <td>-0.044642</td>\n",
       "      <td>-0.051474</td>\n",
       "      <td>-0.026328</td>\n",
       "      <td>-0.008449</td>\n",
       "      <td>-0.019163</td>\n",
       "      <td>0.074412</td>\n",
       "      <td>-0.039493</td>\n",
       "      <td>-0.068330</td>\n",
       "      <td>-0.092204</td>\n",
       "    </tr>\n",
       "    <tr>\n",
       "      <th>2</th>\n",
       "      <td>0.085299</td>\n",
       "      <td>0.050680</td>\n",
       "      <td>0.044451</td>\n",
       "      <td>-0.005671</td>\n",
       "      <td>-0.045599</td>\n",
       "      <td>-0.034194</td>\n",
       "      <td>-0.032356</td>\n",
       "      <td>-0.002592</td>\n",
       "      <td>0.002864</td>\n",
       "      <td>-0.025930</td>\n",
       "    </tr>\n",
       "    <tr>\n",
       "      <th>3</th>\n",
       "      <td>-0.089063</td>\n",
       "      <td>-0.044642</td>\n",
       "      <td>-0.011595</td>\n",
       "      <td>-0.036656</td>\n",
       "      <td>0.012191</td>\n",
       "      <td>0.024991</td>\n",
       "      <td>-0.036038</td>\n",
       "      <td>0.034309</td>\n",
       "      <td>0.022692</td>\n",
       "      <td>-0.009362</td>\n",
       "    </tr>\n",
       "    <tr>\n",
       "      <th>4</th>\n",
       "      <td>0.005383</td>\n",
       "      <td>-0.044642</td>\n",
       "      <td>-0.036385</td>\n",
       "      <td>0.021872</td>\n",
       "      <td>0.003935</td>\n",
       "      <td>0.015596</td>\n",
       "      <td>0.008142</td>\n",
       "      <td>-0.002592</td>\n",
       "      <td>-0.031991</td>\n",
       "      <td>-0.046641</td>\n",
       "    </tr>\n",
       "    <tr>\n",
       "      <th>...</th>\n",
       "      <td>...</td>\n",
       "      <td>...</td>\n",
       "      <td>...</td>\n",
       "      <td>...</td>\n",
       "      <td>...</td>\n",
       "      <td>...</td>\n",
       "      <td>...</td>\n",
       "      <td>...</td>\n",
       "      <td>...</td>\n",
       "      <td>...</td>\n",
       "    </tr>\n",
       "    <tr>\n",
       "      <th>437</th>\n",
       "      <td>0.041708</td>\n",
       "      <td>0.050680</td>\n",
       "      <td>0.019662</td>\n",
       "      <td>0.059744</td>\n",
       "      <td>-0.005697</td>\n",
       "      <td>-0.002566</td>\n",
       "      <td>-0.028674</td>\n",
       "      <td>-0.002592</td>\n",
       "      <td>0.031193</td>\n",
       "      <td>0.007207</td>\n",
       "    </tr>\n",
       "    <tr>\n",
       "      <th>438</th>\n",
       "      <td>-0.005515</td>\n",
       "      <td>0.050680</td>\n",
       "      <td>-0.015906</td>\n",
       "      <td>-0.067642</td>\n",
       "      <td>0.049341</td>\n",
       "      <td>0.079165</td>\n",
       "      <td>-0.028674</td>\n",
       "      <td>0.034309</td>\n",
       "      <td>-0.018118</td>\n",
       "      <td>0.044485</td>\n",
       "    </tr>\n",
       "    <tr>\n",
       "      <th>439</th>\n",
       "      <td>0.041708</td>\n",
       "      <td>0.050680</td>\n",
       "      <td>-0.015906</td>\n",
       "      <td>0.017282</td>\n",
       "      <td>-0.037344</td>\n",
       "      <td>-0.013840</td>\n",
       "      <td>-0.024993</td>\n",
       "      <td>-0.011080</td>\n",
       "      <td>-0.046879</td>\n",
       "      <td>0.015491</td>\n",
       "    </tr>\n",
       "    <tr>\n",
       "      <th>440</th>\n",
       "      <td>-0.045472</td>\n",
       "      <td>-0.044642</td>\n",
       "      <td>0.039062</td>\n",
       "      <td>0.001215</td>\n",
       "      <td>0.016318</td>\n",
       "      <td>0.015283</td>\n",
       "      <td>-0.028674</td>\n",
       "      <td>0.026560</td>\n",
       "      <td>0.044528</td>\n",
       "      <td>-0.025930</td>\n",
       "    </tr>\n",
       "    <tr>\n",
       "      <th>441</th>\n",
       "      <td>-0.045472</td>\n",
       "      <td>-0.044642</td>\n",
       "      <td>-0.073030</td>\n",
       "      <td>-0.081414</td>\n",
       "      <td>0.083740</td>\n",
       "      <td>0.027809</td>\n",
       "      <td>0.173816</td>\n",
       "      <td>-0.039493</td>\n",
       "      <td>-0.004220</td>\n",
       "      <td>0.003064</td>\n",
       "    </tr>\n",
       "  </tbody>\n",
       "</table>\n",
       "<p>442 rows × 10 columns</p>\n",
       "</div>"
      ],
      "text/plain": [
       "          age       sex       bmi        bp        s1        s2        s3  \\\n",
       "0    0.038076  0.050680  0.061696  0.021872 -0.044223 -0.034821 -0.043401   \n",
       "1   -0.001882 -0.044642 -0.051474 -0.026328 -0.008449 -0.019163  0.074412   \n",
       "2    0.085299  0.050680  0.044451 -0.005671 -0.045599 -0.034194 -0.032356   \n",
       "3   -0.089063 -0.044642 -0.011595 -0.036656  0.012191  0.024991 -0.036038   \n",
       "4    0.005383 -0.044642 -0.036385  0.021872  0.003935  0.015596  0.008142   \n",
       "..        ...       ...       ...       ...       ...       ...       ...   \n",
       "437  0.041708  0.050680  0.019662  0.059744 -0.005697 -0.002566 -0.028674   \n",
       "438 -0.005515  0.050680 -0.015906 -0.067642  0.049341  0.079165 -0.028674   \n",
       "439  0.041708  0.050680 -0.015906  0.017282 -0.037344 -0.013840 -0.024993   \n",
       "440 -0.045472 -0.044642  0.039062  0.001215  0.016318  0.015283 -0.028674   \n",
       "441 -0.045472 -0.044642 -0.073030 -0.081414  0.083740  0.027809  0.173816   \n",
       "\n",
       "           s4        s5        s6  \n",
       "0   -0.002592  0.019908 -0.017646  \n",
       "1   -0.039493 -0.068330 -0.092204  \n",
       "2   -0.002592  0.002864 -0.025930  \n",
       "3    0.034309  0.022692 -0.009362  \n",
       "4   -0.002592 -0.031991 -0.046641  \n",
       "..        ...       ...       ...  \n",
       "437 -0.002592  0.031193  0.007207  \n",
       "438  0.034309 -0.018118  0.044485  \n",
       "439 -0.011080 -0.046879  0.015491  \n",
       "440  0.026560  0.044528 -0.025930  \n",
       "441 -0.039493 -0.004220  0.003064  \n",
       "\n",
       "[442 rows x 10 columns]"
      ]
     },
     "execution_count": 170,
     "metadata": {},
     "output_type": "execute_result"
    }
   ],
   "source": [
    "from sklearn.datasets import fetch_openml, load_diabetes\n",
    "\n",
    "\n",
    "diabetes = load_diabetes(as_frame=True)\n",
    "diabetes_X = diabetes['data']\n",
    "diabetes_y = diabetes['target']\n",
    "\n",
    "diabetes_X"
   ]
  },
  {
   "cell_type": "markdown",
   "metadata": {},
   "source": [
    "#### Exercise\n",
    "\n",
    "Train a linear regression on the diabetes dataset. Calculate the test set MSE, RMSE, and MAE."
   ]
  },
  {
   "cell_type": "code",
   "execution_count": 179,
   "metadata": {},
   "outputs": [],
   "source": [
    "X_train, X_test, y_train, y_test = train_test_split(diabetes_X, diabetes_y)\n",
    "\n",
    "lr.fit(X_train, y_train)\n",
    "y_hat = lr.predict(X_test)\n",
    "\n",
    "errors = y_test - y_hat\n",
    "mae = np.mean(np.abs(errors))\n",
    "mse = np.mean(errors ** 2)\n",
    "rmse = np.sqrt(mse)"
   ]
  },
  {
   "cell_type": "code",
   "execution_count": 184,
   "metadata": {},
   "outputs": [
    {
     "data": {
      "text/html": [
       "<div>\n",
       "<style scoped>\n",
       "    .dataframe tbody tr th:only-of-type {\n",
       "        vertical-align: middle;\n",
       "    }\n",
       "\n",
       "    .dataframe tbody tr th {\n",
       "        vertical-align: top;\n",
       "    }\n",
       "\n",
       "    .dataframe thead th {\n",
       "        text-align: right;\n",
       "    }\n",
       "</style>\n",
       "<table border=\"1\" class=\"dataframe\">\n",
       "  <thead>\n",
       "    <tr style=\"text-align: right;\">\n",
       "      <th></th>\n",
       "      <th>MAE</th>\n",
       "      <th>MSE</th>\n",
       "      <th>RMSE</th>\n",
       "    </tr>\n",
       "  </thead>\n",
       "  <tbody>\n",
       "    <tr>\n",
       "      <th>linear_regression</th>\n",
       "      <td>39.374884</td>\n",
       "      <td>2396.508625</td>\n",
       "      <td>48.954148</td>\n",
       "    </tr>\n",
       "  </tbody>\n",
       "</table>\n",
       "</div>"
      ],
      "text/plain": [
       "                         MAE          MSE       RMSE\n",
       "linear_regression  39.374884  2396.508625  48.954148"
      ]
     },
     "execution_count": 184,
     "metadata": {},
     "output_type": "execute_result"
    }
   ],
   "source": [
    "results_diabetes = pd.DataFrame(columns = ['MAE', 'MSE', 'RMSE'])\n",
    "results_diabetes.loc['linear_regression'] = [mae, mse, rmse]\n",
    "results_diabetes"
   ]
  },
  {
   "cell_type": "code",
   "execution_count": 172,
   "metadata": {},
   "outputs": [
    {
     "data": {
      "text/plain": [
       "<matplotlib.collections.PathCollection at 0x7f9d226e4b50>"
      ]
     },
     "execution_count": 172,
     "metadata": {},
     "output_type": "execute_result"
    },
    {
     "data": {
      "image/png": "[encoded data removed]",
      "text/plain": [
       "<Figure size 432x288 with 1 Axes>"
      ]
     },
     "metadata": {
      "needs_background": "light"
     },
     "output_type": "display_data"
    }
   ],
   "source": [
    "plt.scatter(y_test, y_hat)"
   ]
  },
  {
   "cell_type": "code",
   "execution_count": 178,
   "metadata": {},
   "outputs": [
    {
     "data": {
      "text/plain": [
       "<AxesSubplot:>"
      ]
     },
     "execution_count": 178,
     "metadata": {},
     "output_type": "execute_result"
    },
    {
     "data": {
      "image/png": "[encoded data removed]",
      "text/plain": [
       "<Figure size 432x288 with 2 Axes>"
      ]
     },
     "metadata": {
      "needs_background": "light"
     },
     "output_type": "display_data"
    }
   ],
   "source": [
    "import seaborn as sns\n",
    "\n",
    "with_target = diabetes_X.copy()\n",
    "with_target['target'] = diabetes_y\n",
    "\n",
    "sns.heatmap(with_target.corr(), cmap='BrBG', center=0)"
   ]
  },
  {
   "cell_type": "code",
   "execution_count": 190,
   "metadata": {},
   "outputs": [
    {
     "data": {
      "text/plain": [
       "float"
      ]
     },
     "execution_count": 190,
     "metadata": {},
     "output_type": "execute_result"
    }
   ],
   "source": [
    "type(np.nan)"
   ]
  },
  {
   "cell_type": "code",
   "execution_count": 195,
   "metadata": {},
   "outputs": [],
   "source": [
    "housing = fetch_openml(name=\"house_prices\", as_frame=True)\n",
    "housing_X = housing['data']\n",
    "housing_y = housing['target']\n",
    "\n",
    "data = housing_X.select_dtypes('number')\n",
    "data = data.fillna(data.median())\n",
    "data = data.drop('Id', axis=1)"
   ]
  },
  {
   "cell_type": "code",
   "execution_count": 197,
   "metadata": {},
   "outputs": [
    {
     "data": {
      "text/plain": [
       "(23556.103132281398, 1381772738.5377553, 37172.20384289524)"
      ]
     },
     "execution_count": 197,
     "metadata": {},
     "output_type": "execute_result"
    }
   ],
   "source": [
    "X_train, X_test, y_train, y_test = train_test_split(data, housing_y)\n",
    "\n",
    "lr.fit(X_train, y_train)\n",
    "y_hat = lr.predict(X_test)\n",
    "\n",
    "errors = y_test - y_hat\n",
    "mae = np.mean(np.abs(errors))\n",
    "mse = np.mean(errors ** 2)\n",
    "rmse = np.sqrt(mse)\n",
    "\n",
    "mae, mse, rmse"
   ]
  },
  {
   "cell_type": "code",
   "execution_count": 202,
   "metadata": {},
   "outputs": [
    {
     "data": {
      "image/png": "[encoded data removed]",
      "text/plain": [
       "<Figure size 432x288 with 1 Axes>"
      ]
     },
     "metadata": {
      "needs_background": "light"
     },
     "output_type": "display_data"
    }
   ],
   "source": [
    "plt.hist(housing_y, bins=50);"
   ]
  },
  {
   "cell_type": "code",
   "execution_count": 206,
   "metadata": {},
   "outputs": [],
   "source": [
    "results_housing = pd.DataFrame(columns=results_diabetes.columns)\n",
    "results_housing.loc['linear_regression'] = [mae, mse, rmse]"
   ]
  },
  {
   "cell_type": "code",
   "execution_count": 207,
   "metadata": {},
   "outputs": [
    {
     "data": {
      "text/html": [
       "<div>\n",
       "<style scoped>\n",
       "    .dataframe tbody tr th:only-of-type {\n",
       "        vertical-align: middle;\n",
       "    }\n",
       "\n",
       "    .dataframe tbody tr th {\n",
       "        vertical-align: top;\n",
       "    }\n",
       "\n",
       "    .dataframe thead th {\n",
       "        text-align: right;\n",
       "    }\n",
       "</style>\n",
       "<table border=\"1\" class=\"dataframe\">\n",
       "  <thead>\n",
       "    <tr style=\"text-align: right;\">\n",
       "      <th></th>\n",
       "      <th>MAE</th>\n",
       "      <th>MSE</th>\n",
       "      <th>RMSE</th>\n",
       "    </tr>\n",
       "  </thead>\n",
       "  <tbody>\n",
       "    <tr>\n",
       "      <th>linear_regression</th>\n",
       "      <td>23556.103132</td>\n",
       "      <td>1.381773e+09</td>\n",
       "      <td>37172.203843</td>\n",
       "    </tr>\n",
       "  </tbody>\n",
       "</table>\n",
       "</div>"
      ],
      "text/plain": [
       "                            MAE           MSE          RMSE\n",
       "linear_regression  23556.103132  1.381773e+09  37172.203843"
      ]
     },
     "execution_count": 207,
     "metadata": {},
     "output_type": "execute_result"
    }
   ],
   "source": [
    "results_housing"
   ]
  },
  {
   "cell_type": "markdown",
   "metadata": {},
   "source": [
    "## K nearest neighbors"
   ]
  },
  {
   "cell_type": "code",
   "execution_count": 270,
   "metadata": {},
   "outputs": [
    {
     "data": {
      "text/plain": [
       "<matplotlib.collections.PathCollection at 0x7f9d370bf550>"
      ]
     },
     "execution_count": 270,
     "metadata": {},
     "output_type": "execute_result"
    },
    {
     "data": {
      "image/png": "[encoded data removed]",
      "text/plain": [
       "<Figure size 432x288 with 1 Axes>"
      ]
     },
     "metadata": {
      "needs_background": "light"
     },
     "output_type": "display_data"
    }
   ],
   "source": [
    "from sklearn.neighbors import KNeighborsRegressor\n",
    "\n",
    "knn = KNeighborsRegressor(n_neighbors=4)\n",
    "\n",
    "X_train, X_test, y_train, y_test = train_test_split(X, y)\n",
    "\n",
    "\n",
    "knn.fit(X_train, y_train)\n",
    "y_hat = knn.predict(X_test)\n",
    "\n",
    "plt.scatter(X, y)\n",
    "plt.scatter(X_test, y_hat)"
   ]
  },
  {
   "cell_type": "code",
   "execution_count": 271,
   "metadata": {},
   "outputs": [
    {
     "data": {
      "text/plain": [
       "(          age       sex       bmi        bp        s1        s2        s3  \\\n",
       " 0    0.038076  0.050680  0.061696  0.021872 -0.044223 -0.034821 -0.043401   \n",
       " 1   -0.001882 -0.044642 -0.051474 -0.026328 -0.008449 -0.019163  0.074412   \n",
       " 2    0.085299  0.050680  0.044451 -0.005671 -0.045599 -0.034194 -0.032356   \n",
       " 3   -0.089063 -0.044642 -0.011595 -0.036656  0.012191  0.024991 -0.036038   \n",
       " 4    0.005383 -0.044642 -0.036385  0.021872  0.003935  0.015596  0.008142   \n",
       " ..        ...       ...       ...       ...       ...       ...       ...   \n",
       " 437  0.041708  0.050680  0.019662  0.059744 -0.005697 -0.002566 -0.028674   \n",
       " 438 -0.005515  0.050680 -0.015906 -0.067642  0.049341  0.079165 -0.028674   \n",
       " 439  0.041708  0.050680 -0.015906  0.017282 -0.037344 -0.013840 -0.024993   \n",
       " 440 -0.045472 -0.044642  0.039062  0.001215  0.016318  0.015283 -0.028674   \n",
       " 441 -0.045472 -0.044642 -0.073030 -0.081414  0.083740  0.027809  0.173816   \n",
       " \n",
       "            s4        s5        s6  \n",
       " 0   -0.002592  0.019908 -0.017646  \n",
       " 1   -0.039493 -0.068330 -0.092204  \n",
       " 2   -0.002592  0.002864 -0.025930  \n",
       " 3    0.034309  0.022692 -0.009362  \n",
       " 4   -0.002592 -0.031991 -0.046641  \n",
       " ..        ...       ...       ...  \n",
       " 437 -0.002592  0.031193  0.007207  \n",
       " 438  0.034309 -0.018118  0.044485  \n",
       " 439 -0.011080 -0.046879  0.015491  \n",
       " 440  0.026560  0.044528 -0.025930  \n",
       " 441 -0.039493 -0.004220  0.003064  \n",
       " \n",
       " [442 rows x 10 columns],\n",
       " 0      151.0\n",
       " 1       75.0\n",
       " 2      141.0\n",
       " 3      206.0\n",
       " 4      135.0\n",
       "        ...  \n",
       " 437    178.0\n",
       " 438    104.0\n",
       " 439    132.0\n",
       " 440    220.0\n",
       " 441     57.0\n",
       " Name: target, Length: 442, dtype: float64)"
      ]
     },
     "execution_count": 271,
     "metadata": {},
     "output_type": "execute_result"
    }
   ],
   "source": [
    "diabetes_X, diabetes_y"
   ]
  },
  {
   "cell_type": "code",
   "execution_count": 283,
   "metadata": {},
   "outputs": [],
   "source": [
    "# Select a model and hyperparameters\n",
    "knn = KNeighborsRegressor(n_neighbors=5)\n",
    "\n",
    "# Split train and test\n",
    "X_train, X_test, y_train, y_test = train_test_split(diabetes_X, diabetes_y)\n",
    "\n",
    "# Learn on the training set\n",
    "knn.fit(X_train, y_train)\n",
    "# Predict on the test set\n",
    "y_hat = knn.predict(X_test)\n",
    "\n",
    "# Evaluate\n",
    "errors = y_test - y_hat\n",
    "mae = np.mean(np.abs(errors))\n",
    "mse = np.mean(errors ** 2)\n",
    "rmse = np.sqrt(mse)\n",
    "\n",
    "results_diabetes.loc['knn_5'] = [mae, mse, rmse]"
   ]
  },
  {
   "cell_type": "code",
   "execution_count": 284,
   "metadata": {},
   "outputs": [],
   "source": [
    "# Select a model and hyperparameters\n",
    "knn = KNeighborsRegressor(n_neighbors=20)\n",
    "\n",
    "# Split train and test\n",
    "X_train, X_test, y_train, y_test = train_test_split(diabetes_X, diabetes_y)\n",
    "\n",
    "# Learn on the training set\n",
    "knn.fit(X_train, y_train)\n",
    "# Predict on the test set\n",
    "y_hat = knn.predict(X_test)\n",
    "\n",
    "# Evaluate\n",
    "errors = y_test - y_hat\n",
    "mae = np.mean(np.abs(errors))\n",
    "mse = np.mean(errors ** 2)\n",
    "rmse = np.sqrt(mse)\n",
    "\n",
    "results_diabetes.loc['knn_20'] = [mae, mse, rmse]"
   ]
  },
  {
   "cell_type": "code",
   "execution_count": 285,
   "metadata": {},
   "outputs": [],
   "source": [
    "# Select a model and hyperparameters\n",
    "knn = KNeighborsRegressor(n_neighbors=50)\n",
    "\n",
    "# Split train and test\n",
    "X_train, X_test, y_train, y_test = train_test_split(diabetes_X, diabetes_y)\n",
    "\n",
    "# Learn on the training set\n",
    "knn.fit(X_train, y_train)\n",
    "# Predict on the test set\n",
    "y_hat = knn.predict(X_test)\n",
    "\n",
    "# Evaluate\n",
    "errors = y_test - y_hat\n",
    "mae = np.mean(np.abs(errors))\n",
    "mse = np.mean(errors ** 2)\n",
    "rmse = np.sqrt(mse)\n",
    "\n",
    "results_diabetes.loc['knn_50'] = [mae, mse, rmse]"
   ]
  },
  {
   "cell_type": "code",
   "execution_count": 286,
   "metadata": {},
   "outputs": [
    {
     "data": {
      "text/html": [
       "<div>\n",
       "<style scoped>\n",
       "    .dataframe tbody tr th:only-of-type {\n",
       "        vertical-align: middle;\n",
       "    }\n",
       "\n",
       "    .dataframe tbody tr th {\n",
       "        vertical-align: top;\n",
       "    }\n",
       "\n",
       "    .dataframe thead th {\n",
       "        text-align: right;\n",
       "    }\n",
       "</style>\n",
       "<table border=\"1\" class=\"dataframe\">\n",
       "  <thead>\n",
       "    <tr style=\"text-align: right;\">\n",
       "      <th></th>\n",
       "      <th>MAE</th>\n",
       "      <th>MSE</th>\n",
       "      <th>RMSE</th>\n",
       "    </tr>\n",
       "  </thead>\n",
       "  <tbody>\n",
       "    <tr>\n",
       "      <th>linear_regression</th>\n",
       "      <td>39.374884</td>\n",
       "      <td>2396.508625</td>\n",
       "      <td>48.954148</td>\n",
       "    </tr>\n",
       "    <tr>\n",
       "      <th>knn_5</th>\n",
       "      <td>51.095495</td>\n",
       "      <td>3951.942342</td>\n",
       "      <td>62.864476</td>\n",
       "    </tr>\n",
       "    <tr>\n",
       "      <th>knn_20</th>\n",
       "      <td>43.380180</td>\n",
       "      <td>2912.244279</td>\n",
       "      <td>53.965214</td>\n",
       "    </tr>\n",
       "    <tr>\n",
       "      <th>knn_50</th>\n",
       "      <td>50.055315</td>\n",
       "      <td>3522.112126</td>\n",
       "      <td>59.347385</td>\n",
       "    </tr>\n",
       "  </tbody>\n",
       "</table>\n",
       "</div>"
      ],
      "text/plain": [
       "                         MAE          MSE       RMSE\n",
       "linear_regression  39.374884  2396.508625  48.954148\n",
       "knn_5              51.095495  3951.942342  62.864476\n",
       "knn_20             43.380180  2912.244279  53.965214\n",
       "knn_50             50.055315  3522.112126  59.347385"
      ]
     },
     "execution_count": 286,
     "metadata": {},
     "output_type": "execute_result"
    }
   ],
   "source": [
    "results_diabetes"
   ]
  },
  {
   "cell_type": "markdown",
   "metadata": {},
   "source": [
    "#### Exercise \n",
    "\n",
    "Train several K neighbors classifiers (with 5, 20 and 50 neighbors) on the housing dataset. Measure their errors and annotate them into the results DataFrame"
   ]
  },
  {
   "cell_type": "code",
   "execution_count": 287,
   "metadata": {},
   "outputs": [],
   "source": [
    "# Select a model and hyperparameters\n",
    "knn = KNeighborsRegressor(n_neighbors=5)\n",
    "\n",
    "# Split train and test\n",
    "X_train, X_test, y_train, y_test = train_test_split(data, housing_y)\n",
    "\n",
    "# Learn on the training set\n",
    "knn.fit(X_train, y_train)\n",
    "# Predict on the test set\n",
    "y_hat = knn.predict(X_test)\n",
    "\n",
    "# Evaluate\n",
    "errors = y_test - y_hat\n",
    "mae = np.mean(np.abs(errors))\n",
    "mse = np.mean(errors ** 2)\n",
    "rmse = np.sqrt(mse)\n",
    "\n",
    "results_housing.loc['knn_5'] = [mae, mse, rmse]"
   ]
  },
  {
   "cell_type": "code",
   "execution_count": 288,
   "metadata": {},
   "outputs": [],
   "source": [
    "# Select a model and hyperparameters\n",
    "knn = KNeighborsRegressor(n_neighbors=20)\n",
    "\n",
    "# Split train and test\n",
    "X_train, X_test, y_train, y_test = train_test_split(data, housing_y)\n",
    "\n",
    "# Learn on the training set\n",
    "knn.fit(X_train, y_train)\n",
    "# Predict on the test set\n",
    "y_hat = knn.predict(X_test)\n",
    "\n",
    "# Evaluate\n",
    "errors = y_test - y_hat\n",
    "mae = np.mean(np.abs(errors))\n",
    "mse = np.mean(errors ** 2)\n",
    "rmse = np.sqrt(mse)\n",
    "\n",
    "results_housing.loc['knn_20'] = [mae, mse, rmse]"
   ]
  },
  {
   "cell_type": "code",
   "execution_count": 289,
   "metadata": {},
   "outputs": [],
   "source": [
    "# Select a model and hyperparameters\n",
    "knn = KNeighborsRegressor(n_neighbors=50)\n",
    "\n",
    "# Split train and test\n",
    "X_train, X_test, y_train, y_test = train_test_split(data, housing_y)\n",
    "\n",
    "# Learn on the training set\n",
    "knn.fit(X_train, y_train)\n",
    "# Predict on the test set\n",
    "y_hat = knn.predict(X_test)\n",
    "\n",
    "# Evaluate\n",
    "errors = y_test - y_hat\n",
    "mae = np.mean(np.abs(errors))\n",
    "mse = np.mean(errors ** 2)\n",
    "rmse = np.sqrt(mse)\n",
    "\n",
    "results_housing.loc['knn_50'] = [mae, mse, rmse]"
   ]
  },
  {
   "cell_type": "code",
   "execution_count": 290,
   "metadata": {},
   "outputs": [
    {
     "data": {
      "text/html": [
       "<div>\n",
       "<style scoped>\n",
       "    .dataframe tbody tr th:only-of-type {\n",
       "        vertical-align: middle;\n",
       "    }\n",
       "\n",
       "    .dataframe tbody tr th {\n",
       "        vertical-align: top;\n",
       "    }\n",
       "\n",
       "    .dataframe thead th {\n",
       "        text-align: right;\n",
       "    }\n",
       "</style>\n",
       "<table border=\"1\" class=\"dataframe\">\n",
       "  <thead>\n",
       "    <tr style=\"text-align: right;\">\n",
       "      <th></th>\n",
       "      <th>MAE</th>\n",
       "      <th>MSE</th>\n",
       "      <th>RMSE</th>\n",
       "    </tr>\n",
       "  </thead>\n",
       "  <tbody>\n",
       "    <tr>\n",
       "      <th>linear_regression</th>\n",
       "      <td>23556.103132</td>\n",
       "      <td>1.381773e+09</td>\n",
       "      <td>37172.203843</td>\n",
       "    </tr>\n",
       "    <tr>\n",
       "      <th>knn_5</th>\n",
       "      <td>26323.319452</td>\n",
       "      <td>1.840334e+09</td>\n",
       "      <td>42899.119711</td>\n",
       "    </tr>\n",
       "    <tr>\n",
       "      <th>knn_20</th>\n",
       "      <td>32250.753699</td>\n",
       "      <td>2.221287e+09</td>\n",
       "      <td>47130.536696</td>\n",
       "    </tr>\n",
       "    <tr>\n",
       "      <th>knn_50</th>\n",
       "      <td>34487.662521</td>\n",
       "      <td>2.679440e+09</td>\n",
       "      <td>51763.310347</td>\n",
       "    </tr>\n",
       "  </tbody>\n",
       "</table>\n",
       "</div>"
      ],
      "text/plain": [
       "                            MAE           MSE          RMSE\n",
       "linear_regression  23556.103132  1.381773e+09  37172.203843\n",
       "knn_5              26323.319452  1.840334e+09  42899.119711\n",
       "knn_20             32250.753699  2.221287e+09  47130.536696\n",
       "knn_50             34487.662521  2.679440e+09  51763.310347"
      ]
     },
     "execution_count": 290,
     "metadata": {},
     "output_type": "execute_result"
    }
   ],
   "source": [
    "results_housing"
   ]
  },
  {
   "cell_type": "code",
   "execution_count": 294,
   "metadata": {},
   "outputs": [
    {
     "data": {
      "text/html": [
       "<div>\n",
       "<style scoped>\n",
       "    .dataframe tbody tr th:only-of-type {\n",
       "        vertical-align: middle;\n",
       "    }\n",
       "\n",
       "    .dataframe tbody tr th {\n",
       "        vertical-align: top;\n",
       "    }\n",
       "\n",
       "    .dataframe thead th {\n",
       "        text-align: right;\n",
       "    }\n",
       "</style>\n",
       "<table border=\"1\" class=\"dataframe\">\n",
       "  <thead>\n",
       "    <tr style=\"text-align: right;\">\n",
       "      <th></th>\n",
       "      <th>MSSubClass</th>\n",
       "      <th>LotFrontage</th>\n",
       "      <th>LotArea</th>\n",
       "      <th>OverallQual</th>\n",
       "      <th>OverallCond</th>\n",
       "      <th>YearBuilt</th>\n",
       "      <th>YearRemodAdd</th>\n",
       "      <th>MasVnrArea</th>\n",
       "      <th>BsmtFinSF1</th>\n",
       "      <th>BsmtFinSF2</th>\n",
       "      <th>...</th>\n",
       "      <th>GarageArea</th>\n",
       "      <th>WoodDeckSF</th>\n",
       "      <th>OpenPorchSF</th>\n",
       "      <th>EnclosedPorch</th>\n",
       "      <th>3SsnPorch</th>\n",
       "      <th>ScreenPorch</th>\n",
       "      <th>PoolArea</th>\n",
       "      <th>MiscVal</th>\n",
       "      <th>MoSold</th>\n",
       "      <th>YrSold</th>\n",
       "    </tr>\n",
       "  </thead>\n",
       "  <tbody>\n",
       "    <tr>\n",
       "      <th>0</th>\n",
       "      <td>0.073350</td>\n",
       "      <td>-0.220799</td>\n",
       "      <td>-0.207071</td>\n",
       "      <td>0.651256</td>\n",
       "      <td>-0.517023</td>\n",
       "      <td>1.050634</td>\n",
       "      <td>0.878367</td>\n",
       "      <td>0.513928</td>\n",
       "      <td>0.575228</td>\n",
       "      <td>-0.288554</td>\n",
       "      <td>...</td>\n",
       "      <td>0.350880</td>\n",
       "      <td>-0.751918</td>\n",
       "      <td>0.216429</td>\n",
       "      <td>-0.359202</td>\n",
       "      <td>-0.116299</td>\n",
       "      <td>-0.270116</td>\n",
       "      <td>-0.068668</td>\n",
       "      <td>-0.087658</td>\n",
       "      <td>-1.598563</td>\n",
       "      <td>0.138730</td>\n",
       "    </tr>\n",
       "    <tr>\n",
       "      <th>1</th>\n",
       "      <td>-0.872264</td>\n",
       "      <td>0.460162</td>\n",
       "      <td>-0.091855</td>\n",
       "      <td>-0.071812</td>\n",
       "      <td>2.178881</td>\n",
       "      <td>0.156680</td>\n",
       "      <td>-0.429430</td>\n",
       "      <td>-0.570555</td>\n",
       "      <td>1.171591</td>\n",
       "      <td>-0.288554</td>\n",
       "      <td>...</td>\n",
       "      <td>-0.060710</td>\n",
       "      <td>1.625638</td>\n",
       "      <td>-0.704242</td>\n",
       "      <td>-0.359202</td>\n",
       "      <td>-0.116299</td>\n",
       "      <td>-0.270116</td>\n",
       "      <td>-0.068668</td>\n",
       "      <td>-0.087658</td>\n",
       "      <td>-0.488943</td>\n",
       "      <td>-0.614228</td>\n",
       "    </tr>\n",
       "    <tr>\n",
       "      <th>2</th>\n",
       "      <td>0.073350</td>\n",
       "      <td>-0.084607</td>\n",
       "      <td>0.073455</td>\n",
       "      <td>0.651256</td>\n",
       "      <td>-0.517023</td>\n",
       "      <td>0.984415</td>\n",
       "      <td>0.829930</td>\n",
       "      <td>0.325803</td>\n",
       "      <td>0.092875</td>\n",
       "      <td>-0.288554</td>\n",
       "      <td>...</td>\n",
       "      <td>0.631510</td>\n",
       "      <td>-0.751918</td>\n",
       "      <td>-0.070337</td>\n",
       "      <td>-0.359202</td>\n",
       "      <td>-0.116299</td>\n",
       "      <td>-0.270116</td>\n",
       "      <td>-0.068668</td>\n",
       "      <td>-0.087658</td>\n",
       "      <td>0.990552</td>\n",
       "      <td>0.138730</td>\n",
       "    </tr>\n",
       "    <tr>\n",
       "      <th>3</th>\n",
       "      <td>0.309753</td>\n",
       "      <td>-0.447787</td>\n",
       "      <td>-0.096864</td>\n",
       "      <td>0.651256</td>\n",
       "      <td>-0.517023</td>\n",
       "      <td>-1.862993</td>\n",
       "      <td>-0.720051</td>\n",
       "      <td>-0.570555</td>\n",
       "      <td>-0.499103</td>\n",
       "      <td>-0.288554</td>\n",
       "      <td>...</td>\n",
       "      <td>0.790533</td>\n",
       "      <td>-0.751918</td>\n",
       "      <td>-0.175988</td>\n",
       "      <td>4.091122</td>\n",
       "      <td>-0.116299</td>\n",
       "      <td>-0.270116</td>\n",
       "      <td>-0.068668</td>\n",
       "      <td>-0.087658</td>\n",
       "      <td>-1.598563</td>\n",
       "      <td>-1.367186</td>\n",
       "    </tr>\n",
       "    <tr>\n",
       "      <th>4</th>\n",
       "      <td>0.073350</td>\n",
       "      <td>0.641752</td>\n",
       "      <td>0.375020</td>\n",
       "      <td>1.374324</td>\n",
       "      <td>-0.517023</td>\n",
       "      <td>0.951306</td>\n",
       "      <td>0.733056</td>\n",
       "      <td>1.366021</td>\n",
       "      <td>0.463410</td>\n",
       "      <td>-0.288554</td>\n",
       "      <td>...</td>\n",
       "      <td>1.697903</td>\n",
       "      <td>0.779930</td>\n",
       "      <td>0.563567</td>\n",
       "      <td>-0.359202</td>\n",
       "      <td>-0.116299</td>\n",
       "      <td>-0.270116</td>\n",
       "      <td>-0.068668</td>\n",
       "      <td>-0.087658</td>\n",
       "      <td>2.100173</td>\n",
       "      <td>0.138730</td>\n",
       "    </tr>\n",
       "    <tr>\n",
       "      <th>...</th>\n",
       "      <td>...</td>\n",
       "      <td>...</td>\n",
       "      <td>...</td>\n",
       "      <td>...</td>\n",
       "      <td>...</td>\n",
       "      <td>...</td>\n",
       "      <td>...</td>\n",
       "      <td>...</td>\n",
       "      <td>...</td>\n",
       "      <td>...</td>\n",
       "      <td>...</td>\n",
       "      <td>...</td>\n",
       "      <td>...</td>\n",
       "      <td>...</td>\n",
       "      <td>...</td>\n",
       "      <td>...</td>\n",
       "      <td>...</td>\n",
       "      <td>...</td>\n",
       "      <td>...</td>\n",
       "      <td>...</td>\n",
       "      <td>...</td>\n",
       "    </tr>\n",
       "    <tr>\n",
       "      <th>1455</th>\n",
       "      <td>0.073350</td>\n",
       "      <td>-0.356992</td>\n",
       "      <td>-0.260471</td>\n",
       "      <td>-0.071812</td>\n",
       "      <td>-0.517023</td>\n",
       "      <td>0.918196</td>\n",
       "      <td>0.733056</td>\n",
       "      <td>-0.570555</td>\n",
       "      <td>-0.972685</td>\n",
       "      <td>-0.288554</td>\n",
       "      <td>...</td>\n",
       "      <td>-0.060710</td>\n",
       "      <td>-0.751918</td>\n",
       "      <td>-0.100523</td>\n",
       "      <td>-0.359202</td>\n",
       "      <td>-0.116299</td>\n",
       "      <td>-0.270116</td>\n",
       "      <td>-0.068668</td>\n",
       "      <td>-0.087658</td>\n",
       "      <td>0.620678</td>\n",
       "      <td>-0.614228</td>\n",
       "    </tr>\n",
       "    <tr>\n",
       "      <th>1456</th>\n",
       "      <td>-0.872264</td>\n",
       "      <td>0.687149</td>\n",
       "      <td>0.266316</td>\n",
       "      <td>-0.071812</td>\n",
       "      <td>0.381612</td>\n",
       "      <td>0.222899</td>\n",
       "      <td>0.151813</td>\n",
       "      <td>0.087881</td>\n",
       "      <td>0.759399</td>\n",
       "      <td>0.721865</td>\n",
       "      <td>...</td>\n",
       "      <td>0.126376</td>\n",
       "      <td>2.032535</td>\n",
       "      <td>-0.704242</td>\n",
       "      <td>-0.359202</td>\n",
       "      <td>-0.116299</td>\n",
       "      <td>-0.270116</td>\n",
       "      <td>-0.068668</td>\n",
       "      <td>-0.087658</td>\n",
       "      <td>-1.598563</td>\n",
       "      <td>1.644646</td>\n",
       "    </tr>\n",
       "    <tr>\n",
       "      <th>1457</th>\n",
       "      <td>0.309753</td>\n",
       "      <td>-0.175402</td>\n",
       "      <td>-0.147760</td>\n",
       "      <td>0.651256</td>\n",
       "      <td>3.077516</td>\n",
       "      <td>-1.002149</td>\n",
       "      <td>1.023678</td>\n",
       "      <td>-0.570555</td>\n",
       "      <td>-0.369744</td>\n",
       "      <td>-0.288554</td>\n",
       "      <td>...</td>\n",
       "      <td>-1.033560</td>\n",
       "      <td>-0.751918</td>\n",
       "      <td>0.201336</td>\n",
       "      <td>-0.359202</td>\n",
       "      <td>-0.116299</td>\n",
       "      <td>-0.270116</td>\n",
       "      <td>-0.068668</td>\n",
       "      <td>4.951415</td>\n",
       "      <td>-0.488943</td>\n",
       "      <td>1.644646</td>\n",
       "    </tr>\n",
       "    <tr>\n",
       "      <th>1458</th>\n",
       "      <td>-0.872264</td>\n",
       "      <td>-0.084607</td>\n",
       "      <td>-0.080133</td>\n",
       "      <td>-0.794879</td>\n",
       "      <td>0.381612</td>\n",
       "      <td>-0.704164</td>\n",
       "      <td>0.539309</td>\n",
       "      <td>-0.570555</td>\n",
       "      <td>-0.865252</td>\n",
       "      <td>6.090101</td>\n",
       "      <td>...</td>\n",
       "      <td>-1.089686</td>\n",
       "      <td>2.168167</td>\n",
       "      <td>-0.704242</td>\n",
       "      <td>1.473284</td>\n",
       "      <td>-0.116299</td>\n",
       "      <td>-0.270116</td>\n",
       "      <td>-0.068668</td>\n",
       "      <td>-0.087658</td>\n",
       "      <td>-0.858816</td>\n",
       "      <td>1.644646</td>\n",
       "    </tr>\n",
       "    <tr>\n",
       "      <th>1459</th>\n",
       "      <td>-0.872264</td>\n",
       "      <td>0.233175</td>\n",
       "      <td>-0.058092</td>\n",
       "      <td>-0.794879</td>\n",
       "      <td>0.381612</td>\n",
       "      <td>-0.207523</td>\n",
       "      <td>-0.962236</td>\n",
       "      <td>-0.570555</td>\n",
       "      <td>0.847099</td>\n",
       "      <td>1.509123</td>\n",
       "      <td>...</td>\n",
       "      <td>-0.921308</td>\n",
       "      <td>5.120166</td>\n",
       "      <td>0.322080</td>\n",
       "      <td>-0.359202</td>\n",
       "      <td>-0.116299</td>\n",
       "      <td>-0.270116</td>\n",
       "      <td>-0.068668</td>\n",
       "      <td>-0.087658</td>\n",
       "      <td>-0.119069</td>\n",
       "      <td>0.138730</td>\n",
       "    </tr>\n",
       "  </tbody>\n",
       "</table>\n",
       "<p>1460 rows × 36 columns</p>\n",
       "</div>"
      ],
      "text/plain": [
       "      MSSubClass  LotFrontage   LotArea  OverallQual  OverallCond  YearBuilt  \\\n",
       "0       0.073350    -0.220799 -0.207071     0.651256    -0.517023   1.050634   \n",
       "1      -0.872264     0.460162 -0.091855    -0.071812     2.178881   0.156680   \n",
       "2       0.073350    -0.084607  0.073455     0.651256    -0.517023   0.984415   \n",
       "3       0.309753    -0.447787 -0.096864     0.651256    -0.517023  -1.862993   \n",
       "4       0.073350     0.641752  0.375020     1.374324    -0.517023   0.951306   \n",
       "...          ...          ...       ...          ...          ...        ...   \n",
       "1455    0.073350    -0.356992 -0.260471    -0.071812    -0.517023   0.918196   \n",
       "1456   -0.872264     0.687149  0.266316    -0.071812     0.381612   0.222899   \n",
       "1457    0.309753    -0.175402 -0.147760     0.651256     3.077516  -1.002149   \n",
       "1458   -0.872264    -0.084607 -0.080133    -0.794879     0.381612  -0.704164   \n",
       "1459   -0.872264     0.233175 -0.058092    -0.794879     0.381612  -0.207523   \n",
       "\n",
       "      YearRemodAdd  MasVnrArea  BsmtFinSF1  BsmtFinSF2  ...  GarageArea  \\\n",
       "0         0.878367    0.513928    0.575228   -0.288554  ...    0.350880   \n",
       "1        -0.429430   -0.570555    1.171591   -0.288554  ...   -0.060710   \n",
       "2         0.829930    0.325803    0.092875   -0.288554  ...    0.631510   \n",
       "3        -0.720051   -0.570555   -0.499103   -0.288554  ...    0.790533   \n",
       "4         0.733056    1.366021    0.463410   -0.288554  ...    1.697903   \n",
       "...            ...         ...         ...         ...  ...         ...   \n",
       "1455      0.733056   -0.570555   -0.972685   -0.288554  ...   -0.060710   \n",
       "1456      0.151813    0.087881    0.759399    0.721865  ...    0.126376   \n",
       "1457      1.023678   -0.570555   -0.369744   -0.288554  ...   -1.033560   \n",
       "1458      0.539309   -0.570555   -0.865252    6.090101  ...   -1.089686   \n",
       "1459     -0.962236   -0.570555    0.847099    1.509123  ...   -0.921308   \n",
       "\n",
       "      WoodDeckSF  OpenPorchSF  EnclosedPorch  3SsnPorch  ScreenPorch  \\\n",
       "0      -0.751918     0.216429      -0.359202  -0.116299    -0.270116   \n",
       "1       1.625638    -0.704242      -0.359202  -0.116299    -0.270116   \n",
       "2      -0.751918    -0.070337      -0.359202  -0.116299    -0.270116   \n",
       "3      -0.751918    -0.175988       4.091122  -0.116299    -0.270116   \n",
       "4       0.779930     0.563567      -0.359202  -0.116299    -0.270116   \n",
       "...          ...          ...            ...        ...          ...   \n",
       "1455   -0.751918    -0.100523      -0.359202  -0.116299    -0.270116   \n",
       "1456    2.032535    -0.704242      -0.359202  -0.116299    -0.270116   \n",
       "1457   -0.751918     0.201336      -0.359202  -0.116299    -0.270116   \n",
       "1458    2.168167    -0.704242       1.473284  -0.116299    -0.270116   \n",
       "1459    5.120166     0.322080      -0.359202  -0.116299    -0.270116   \n",
       "\n",
       "      PoolArea   MiscVal    MoSold    YrSold  \n",
       "0    -0.068668 -0.087658 -1.598563  0.138730  \n",
       "1    -0.068668 -0.087658 -0.488943 -0.614228  \n",
       "2    -0.068668 -0.087658  0.990552  0.138730  \n",
       "3    -0.068668 -0.087658 -1.598563 -1.367186  \n",
       "4    -0.068668 -0.087658  2.100173  0.138730  \n",
       "...        ...       ...       ...       ...  \n",
       "1455 -0.068668 -0.087658  0.620678 -0.614228  \n",
       "1456 -0.068668 -0.087658 -1.598563  1.644646  \n",
       "1457 -0.068668  4.951415 -0.488943  1.644646  \n",
       "1458 -0.068668 -0.087658 -0.858816  1.644646  \n",
       "1459 -0.068668 -0.087658 -0.119069  0.138730  \n",
       "\n",
       "[1460 rows x 36 columns]"
      ]
     },
     "execution_count": 294,
     "metadata": {},
     "output_type": "execute_result"
    }
   ],
   "source": [
    "normalized = data.copy()\n",
    "normalized = (normalized - normalized.mean()) / normalized.std()\n",
    "normalized"
   ]
  },
  {
   "cell_type": "code",
   "execution_count": 295,
   "metadata": {},
   "outputs": [],
   "source": [
    "# Select a model and hyperparameters\n",
    "knn = KNeighborsRegressor(n_neighbors=20)\n",
    "\n",
    "# Split train and test\n",
    "X_train, X_test, y_train, y_test = train_test_split(normalized, housing_y)\n",
    "\n",
    "# Learn on the training set\n",
    "knn.fit(X_train, y_train)\n",
    "# Predict on the test set\n",
    "y_hat = knn.predict(X_test)\n",
    "\n",
    "# Evaluate\n",
    "errors = y_test - y_hat\n",
    "mae = np.mean(np.abs(errors))\n",
    "mse = np.mean(errors ** 2)\n",
    "rmse = np.sqrt(mse)\n",
    "\n",
    "results_housing.loc['knn_20_normalized'] = [mae, mse, rmse]"
   ]
  },
  {
   "cell_type": "code",
   "execution_count": 296,
   "metadata": {},
   "outputs": [
    {
     "data": {
      "text/html": [
       "<div>\n",
       "<style scoped>\n",
       "    .dataframe tbody tr th:only-of-type {\n",
       "        vertical-align: middle;\n",
       "    }\n",
       "\n",
       "    .dataframe tbody tr th {\n",
       "        vertical-align: top;\n",
       "    }\n",
       "\n",
       "    .dataframe thead th {\n",
       "        text-align: right;\n",
       "    }\n",
       "</style>\n",
       "<table border=\"1\" class=\"dataframe\">\n",
       "  <thead>\n",
       "    <tr style=\"text-align: right;\">\n",
       "      <th></th>\n",
       "      <th>MAE</th>\n",
       "      <th>MSE</th>\n",
       "      <th>RMSE</th>\n",
       "    </tr>\n",
       "  </thead>\n",
       "  <tbody>\n",
       "    <tr>\n",
       "      <th>linear_regression</th>\n",
       "      <td>23556.103132</td>\n",
       "      <td>1.381773e+09</td>\n",
       "      <td>37172.203843</td>\n",
       "    </tr>\n",
       "    <tr>\n",
       "      <th>knn_5</th>\n",
       "      <td>26323.319452</td>\n",
       "      <td>1.840334e+09</td>\n",
       "      <td>42899.119711</td>\n",
       "    </tr>\n",
       "    <tr>\n",
       "      <th>knn_20</th>\n",
       "      <td>32250.753699</td>\n",
       "      <td>2.221287e+09</td>\n",
       "      <td>47130.536696</td>\n",
       "    </tr>\n",
       "    <tr>\n",
       "      <th>knn_50</th>\n",
       "      <td>34487.662521</td>\n",
       "      <td>2.679440e+09</td>\n",
       "      <td>51763.310347</td>\n",
       "    </tr>\n",
       "    <tr>\n",
       "      <th>knn_20_normalized</th>\n",
       "      <td>22173.771781</td>\n",
       "      <td>1.419504e+09</td>\n",
       "      <td>37676.310555</td>\n",
       "    </tr>\n",
       "  </tbody>\n",
       "</table>\n",
       "</div>"
      ],
      "text/plain": [
       "                            MAE           MSE          RMSE\n",
       "linear_regression  23556.103132  1.381773e+09  37172.203843\n",
       "knn_5              26323.319452  1.840334e+09  42899.119711\n",
       "knn_20             32250.753699  2.221287e+09  47130.536696\n",
       "knn_50             34487.662521  2.679440e+09  51763.310347\n",
       "knn_20_normalized  22173.771781  1.419504e+09  37676.310555"
      ]
     },
     "execution_count": 296,
     "metadata": {},
     "output_type": "execute_result"
    }
   ],
   "source": [
    "results_housing"
   ]
  },
  {
   "cell_type": "code",
   "execution_count": 297,
   "metadata": {},
   "outputs": [
    {
     "data": {
      "text/plain": [
       "<matplotlib.collections.PathCollection at 0x7f9d37234d00>"
      ]
     },
     "execution_count": 297,
     "metadata": {},
     "output_type": "execute_result"
    },
    {
     "data": {
      "image/png": "[encoded data removed]",
      "text/plain": [
       "<Figure size 432x288 with 1 Axes>"
      ]
     },
     "metadata": {
      "needs_background": "light"
     },
     "output_type": "display_data"
    }
   ],
   "source": [
    "plt.scatter(y_test, y_hat)"
   ]
  },
  {
   "cell_type": "markdown",
   "metadata": {},
   "source": [
    "## Decision Tree Regression\n"
   ]
  },
  {
   "cell_type": "code",
   "execution_count": 462,
   "metadata": {},
   "outputs": [
    {
     "data": {
      "text/plain": [
       "[<matplotlib.lines.Line2D at 0x7f9cd12819d0>]"
      ]
     },
     "execution_count": 462,
     "metadata": {},
     "output_type": "execute_result"
    },
    {
     "data": {
      "image/png": "[encoded data removed]",
      "text/plain": [
       "<Figure size 432x288 with 1 Axes>"
      ]
     },
     "metadata": {
      "needs_background": "light"
     },
     "output_type": "display_data"
    }
   ],
   "source": [
    "from sklearn.tree import DecisionTreeRegressor\n",
    "\n",
    "dt = DecisionTreeRegressor(max_depth=10,\n",
    "                           min_samples_leaf=20)\n",
    "\n",
    "X_train, X_test, y_train, y_test = train_test_split(X, y)\n",
    "dt.fit(X_train, y_train)\n",
    "\n",
    "plt.scatter(X, y)\n",
    "xs = np.linspace(min(X)-2, max(X)+2)\n",
    "plt.plot(xs, dt.predict(xs), c='orange')"
   ]
  },
  {
   "cell_type": "code",
   "execution_count": 463,
   "metadata": {},
   "outputs": [],
   "source": [
    "# Select a model and hyperparameters\n",
    "dt = DecisionTreeRegressor(max_depth=4)\n",
    "\n",
    "# Split train and test\n",
    "X_train, X_test, y_train, y_test = train_test_split(diabetes_X, diabetes_y)\n",
    "\n",
    "# Learn on the training set\n",
    "dt.fit(X_train, y_train)\n",
    "# Predict on the test set\n",
    "y_hat = dt.predict(X_test)\n",
    "\n",
    "# Evaluate\n",
    "errors = y_test - y_hat\n",
    "mae = np.mean(np.abs(errors))\n",
    "mse = np.mean(errors ** 2)\n",
    "rmse = np.sqrt(mse)\n",
    "\n",
    "results_diabetes.loc['dt_4'] = [mae, mse, rmse]"
   ]
  },
  {
   "cell_type": "code",
   "execution_count": 473,
   "metadata": {},
   "outputs": [],
   "source": [
    "# Select a model and hyperparameters\n",
    "dt = DecisionTreeRegressor(max_depth=8)\n",
    "\n",
    "# Split train and test\n",
    "X_train, X_test, y_train, y_test = train_test_split(diabetes_X, diabetes_y)\n",
    "\n",
    "# Learn on the training set\n",
    "dt.fit(X_train, y_train)\n",
    "# Predict on the test set\n",
    "y_hat = dt.predict(X_test)\n",
    "\n",
    "# Evaluate\n",
    "errors = y_test - y_hat\n",
    "mae = np.mean(np.abs(errors))\n",
    "mse = np.mean(errors ** 2)\n",
    "rmse = np.sqrt(mse)\n",
    "\n",
    "results_diabetes.loc['dt_8'] = [mae, mse, rmse]"
   ]
  },
  {
   "cell_type": "code",
   "execution_count": 474,
   "metadata": {},
   "outputs": [
    {
     "data": {
      "text/html": [
       "<div>\n",
       "<style scoped>\n",
       "    .dataframe tbody tr th:only-of-type {\n",
       "        vertical-align: middle;\n",
       "    }\n",
       "\n",
       "    .dataframe tbody tr th {\n",
       "        vertical-align: top;\n",
       "    }\n",
       "\n",
       "    .dataframe thead th {\n",
       "        text-align: right;\n",
       "    }\n",
       "</style>\n",
       "<table border=\"1\" class=\"dataframe\">\n",
       "  <thead>\n",
       "    <tr style=\"text-align: right;\">\n",
       "      <th></th>\n",
       "      <th>MAE</th>\n",
       "      <th>MSE</th>\n",
       "      <th>RMSE</th>\n",
       "    </tr>\n",
       "  </thead>\n",
       "  <tbody>\n",
       "    <tr>\n",
       "      <th>linear_regression</th>\n",
       "      <td>39.374884</td>\n",
       "      <td>2396.508625</td>\n",
       "      <td>48.954148</td>\n",
       "    </tr>\n",
       "    <tr>\n",
       "      <th>knn_5</th>\n",
       "      <td>51.095495</td>\n",
       "      <td>3951.942342</td>\n",
       "      <td>62.864476</td>\n",
       "    </tr>\n",
       "    <tr>\n",
       "      <th>knn_20</th>\n",
       "      <td>43.380180</td>\n",
       "      <td>2912.244279</td>\n",
       "      <td>53.965214</td>\n",
       "    </tr>\n",
       "    <tr>\n",
       "      <th>knn_50</th>\n",
       "      <td>50.055315</td>\n",
       "      <td>3522.112126</td>\n",
       "      <td>59.347385</td>\n",
       "    </tr>\n",
       "    <tr>\n",
       "      <th>dt_4</th>\n",
       "      <td>45.829268</td>\n",
       "      <td>3229.504689</td>\n",
       "      <td>56.828731</td>\n",
       "    </tr>\n",
       "    <tr>\n",
       "      <th>dt_8</th>\n",
       "      <td>56.516056</td>\n",
       "      <td>5172.942469</td>\n",
       "      <td>71.923171</td>\n",
       "    </tr>\n",
       "  </tbody>\n",
       "</table>\n",
       "</div>"
      ],
      "text/plain": [
       "                         MAE          MSE       RMSE\n",
       "linear_regression  39.374884  2396.508625  48.954148\n",
       "knn_5              51.095495  3951.942342  62.864476\n",
       "knn_20             43.380180  2912.244279  53.965214\n",
       "knn_50             50.055315  3522.112126  59.347385\n",
       "dt_4               45.829268  3229.504689  56.828731\n",
       "dt_8               56.516056  5172.942469  71.923171"
      ]
     },
     "execution_count": 474,
     "metadata": {},
     "output_type": "execute_result"
    }
   ],
   "source": [
    "results_diabetes"
   ]
  },
  {
   "cell_type": "code",
   "execution_count": null,
   "metadata": {},
   "outputs": [],
   "source": []
  },
  {
   "cell_type": "code",
   "execution_count": null,
   "metadata": {},
   "outputs": [],
   "source": []
  },
  {
   "cell_type": "code",
   "execution_count": 475,
   "metadata": {},
   "outputs": [],
   "source": [
    "# Select a model and hyperparameters\n",
    "dt = DecisionTreeRegressor(max_depth=4)\n",
    "\n",
    "# Split train and test\n",
    "X_train, X_test, y_train, y_test = train_test_split(normalized, housing_y)\n",
    "\n",
    "# Learn on the training set\n",
    "dt.fit(X_train, y_train)\n",
    "# Predict on the test set\n",
    "y_hat = dt.predict(X_test)\n",
    "\n",
    "# Evaluate\n",
    "errors = y_test - y_hat\n",
    "mae = np.mean(np.abs(errors))\n",
    "mse = np.mean(errors ** 2)\n",
    "rmse = np.sqrt(mse)\n",
    "\n",
    "results_housing.loc['dt_4_normalized'] = [mae, mse, rmse]"
   ]
  },
  {
   "cell_type": "code",
   "execution_count": 477,
   "metadata": {},
   "outputs": [],
   "source": [
    "# Select a model and hyperparameters\n",
    "dt = DecisionTreeRegressor(max_depth=4)\n",
    "\n",
    "# Split train and test\n",
    "X_train, X_test, y_train, y_test = train_test_split(data, housing_y)\n",
    "\n",
    "# Learn on the training set\n",
    "dt.fit(X_train, y_train)\n",
    "# Predict on the test set\n",
    "y_hat = dt.predict(X_test)\n",
    "\n",
    "# Evaluate\n",
    "errors = y_test - y_hat\n",
    "mae = np.mean(np.abs(errors))\n",
    "mse = np.mean(errors ** 2)\n",
    "rmse = np.sqrt(mse)\n",
    "\n",
    "results_housing.loc['dt_4'] = [mae, mse, rmse]"
   ]
  },
  {
   "cell_type": "code",
   "execution_count": 478,
   "metadata": {},
   "outputs": [
    {
     "data": {
      "text/html": [
       "<div>\n",
       "<style scoped>\n",
       "    .dataframe tbody tr th:only-of-type {\n",
       "        vertical-align: middle;\n",
       "    }\n",
       "\n",
       "    .dataframe tbody tr th {\n",
       "        vertical-align: top;\n",
       "    }\n",
       "\n",
       "    .dataframe thead th {\n",
       "        text-align: right;\n",
       "    }\n",
       "</style>\n",
       "<table border=\"1\" class=\"dataframe\">\n",
       "  <thead>\n",
       "    <tr style=\"text-align: right;\">\n",
       "      <th></th>\n",
       "      <th>MAE</th>\n",
       "      <th>MSE</th>\n",
       "      <th>RMSE</th>\n",
       "    </tr>\n",
       "  </thead>\n",
       "  <tbody>\n",
       "    <tr>\n",
       "      <th>linear_regression</th>\n",
       "      <td>23556.103132</td>\n",
       "      <td>1.381773e+09</td>\n",
       "      <td>37172.203843</td>\n",
       "    </tr>\n",
       "    <tr>\n",
       "      <th>knn_5</th>\n",
       "      <td>26323.319452</td>\n",
       "      <td>1.840334e+09</td>\n",
       "      <td>42899.119711</td>\n",
       "    </tr>\n",
       "    <tr>\n",
       "      <th>knn_20</th>\n",
       "      <td>32250.753699</td>\n",
       "      <td>2.221287e+09</td>\n",
       "      <td>47130.536696</td>\n",
       "    </tr>\n",
       "    <tr>\n",
       "      <th>knn_50</th>\n",
       "      <td>34487.662521</td>\n",
       "      <td>2.679440e+09</td>\n",
       "      <td>51763.310347</td>\n",
       "    </tr>\n",
       "    <tr>\n",
       "      <th>knn_20_normalized</th>\n",
       "      <td>22173.771781</td>\n",
       "      <td>1.419504e+09</td>\n",
       "      <td>37676.310555</td>\n",
       "    </tr>\n",
       "    <tr>\n",
       "      <th>dt_4_normalized</th>\n",
       "      <td>26517.271312</td>\n",
       "      <td>1.415241e+09</td>\n",
       "      <td>37619.690136</td>\n",
       "    </tr>\n",
       "    <tr>\n",
       "      <th>dt_4</th>\n",
       "      <td>27623.649508</td>\n",
       "      <td>1.788561e+09</td>\n",
       "      <td>42291.384069</td>\n",
       "    </tr>\n",
       "  </tbody>\n",
       "</table>\n",
       "</div>"
      ],
      "text/plain": [
       "                            MAE           MSE          RMSE\n",
       "linear_regression  23556.103132  1.381773e+09  37172.203843\n",
       "knn_5              26323.319452  1.840334e+09  42899.119711\n",
       "knn_20             32250.753699  2.221287e+09  47130.536696\n",
       "knn_50             34487.662521  2.679440e+09  51763.310347\n",
       "knn_20_normalized  22173.771781  1.419504e+09  37676.310555\n",
       "dt_4_normalized    26517.271312  1.415241e+09  37619.690136\n",
       "dt_4               27623.649508  1.788561e+09  42291.384069"
      ]
     },
     "execution_count": 478,
     "metadata": {},
     "output_type": "execute_result"
    }
   ],
   "source": [
    "results_housing"
   ]
  },
  {
   "cell_type": "markdown",
   "metadata": {},
   "source": [
    "# Generalizability of our models\n",
    "\n",
    "We want to train models on known data in order to make inferences (predictions) on unknown data.\n",
    "\n",
    "How do we know how good our models are? "
   ]
  },
  {
   "cell_type": "markdown",
   "metadata": {},
   "source": [
    "## Overfitting\n",
    "\n",
    "![Under- and overfitting](https://djsaunde.files.wordpress.com/2017/07/bias-variance-tradeoff.png)\n",
    "\n",
    "from https://djsaunde.wordpress.com/2017/07/17/the-bias-variance-tradeoff/"
   ]
  },
  {
   "cell_type": "markdown",
   "metadata": {},
   "source": [
    "# Additional References\n",
    "\n",
    "\n",
    "[An Introduction to Statistical Learning](http://www-bcf.usc.edu/~gareth/ISL/)\n",
    "\n",
    "[Introduction to Machine Learning with Python](http://shop.oreilly.com/product/0636920030515.do)\n",
    "\n",
    "[scikit-learn cheat sheet](https://s3.amazonaws.com/assets.datacamp.com/blog_assets/Scikit_Learn_Cheat_Sheet_Python.pdf)\n",
    "\n",
    "[Regression metrics in sklearn](https://scikit-learn.org/stable/modules/model_evaluation.html#regression-metrics)"
   ]
  },
  {
   "cell_type": "code",
   "execution_count": null,
   "metadata": {},
   "outputs": [],
   "source": []
  }
 ],
 "metadata": {
  "kernelspec": {
   "display_name": "Python [conda env:master2022]",
   "language": "python",
   "name": "conda-env-master2022-py"
  },
  "language_info": {
   "codemirror_mode": {
    "name": "ipython",
    "version": 3
   },
   "file_extension": ".py",
   "mimetype": "text/x-python",
   "name": "python",
   "nbconvert_exporter": "python",
   "pygments_lexer": "ipython3",
   "version": "3.8.12"
  },
  "toc": {
   "base_numbering": 1,
   "nav_menu": {
    "height": "617px",
    "width": "426px"
   },
   "number_sections": true,
   "sideBar": true,
   "skip_h1_title": false,
   "title_cell": "Table of Contents",
   "title_sidebar": "Contents",
   "toc_cell": false,
   "toc_position": {},
   "toc_section_display": true,
   "toc_window_display": false
  }
 },
 "nbformat": 4,
 "nbformat_minor": 4
}
